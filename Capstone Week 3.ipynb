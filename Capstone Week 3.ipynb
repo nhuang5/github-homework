{
    "cells": [
        {
            "metadata": {},
            "cell_type": "code",
            "source": "import pandas as pd\nimport numpy as np\nimport requests\n",
            "execution_count": 5,
            "outputs": []
        },
        {
            "metadata": {
                "scrolled": true
            },
            "cell_type": "code",
            "source": "url = 'https://en.wikipedia.org/wiki/List_of_postal_codes_of_Canada:_M'\nhtml = requests.get(url).content\ndf_list = pd.read_html(html)\ndf=pd.DataFrame(df_list[0])\ndf.head()",
            "execution_count": 6,
            "outputs": [
                {
                    "output_type": "execute_result",
                    "execution_count": 6,
                    "data": {
                        "text/plain": "  Postal code           Borough                Neighborhood\n0         M1A      Not assigned                         NaN\n1         M2A      Not assigned                         NaN\n2         M3A        North York                   Parkwoods\n3         M4A        North York            Victoria Village\n4         M5A  Downtown Toronto  Regent Park / Harbourfront",
                        "text/html": "<div>\n<style scoped>\n    .dataframe tbody tr th:only-of-type {\n        vertical-align: middle;\n    }\n\n    .dataframe tbody tr th {\n        vertical-align: top;\n    }\n\n    .dataframe thead th {\n        text-align: right;\n    }\n</style>\n<table border=\"1\" class=\"dataframe\">\n  <thead>\n    <tr style=\"text-align: right;\">\n      <th></th>\n      <th>Postal code</th>\n      <th>Borough</th>\n      <th>Neighborhood</th>\n    </tr>\n  </thead>\n  <tbody>\n    <tr>\n      <th>0</th>\n      <td>M1A</td>\n      <td>Not assigned</td>\n      <td>NaN</td>\n    </tr>\n    <tr>\n      <th>1</th>\n      <td>M2A</td>\n      <td>Not assigned</td>\n      <td>NaN</td>\n    </tr>\n    <tr>\n      <th>2</th>\n      <td>M3A</td>\n      <td>North York</td>\n      <td>Parkwoods</td>\n    </tr>\n    <tr>\n      <th>3</th>\n      <td>M4A</td>\n      <td>North York</td>\n      <td>Victoria Village</td>\n    </tr>\n    <tr>\n      <th>4</th>\n      <td>M5A</td>\n      <td>Downtown Toronto</td>\n      <td>Regent Park / Harbourfront</td>\n    </tr>\n  </tbody>\n</table>\n</div>"
                    },
                    "metadata": {}
                }
            ]
        },
        {
            "metadata": {},
            "cell_type": "code",
            "source": "df.shape",
            "execution_count": 7,
            "outputs": [
                {
                    "output_type": "execute_result",
                    "execution_count": 7,
                    "data": {
                        "text/plain": "(180, 3)"
                    },
                    "metadata": {}
                }
            ]
        },
        {
            "metadata": {},
            "cell_type": "code",
            "source": "df.drop(df[df['Borough'] == 'Not assigned'].index, inplace = True) \ndf.shape",
            "execution_count": 8,
            "outputs": [
                {
                    "output_type": "execute_result",
                    "execution_count": 8,
                    "data": {
                        "text/plain": "(103, 3)"
                    },
                    "metadata": {}
                }
            ]
        },
        {
            "metadata": {},
            "cell_type": "markdown",
            "source": "check if there is any duplicate postal code existed"
        },
        {
            "metadata": {},
            "cell_type": "code",
            "source": "sum(df['Postal code'].duplicated())",
            "execution_count": 9,
            "outputs": [
                {
                    "output_type": "execute_result",
                    "execution_count": 9,
                    "data": {
                        "text/plain": "0"
                    },
                    "metadata": {}
                }
            ]
        },
        {
            "metadata": {},
            "cell_type": "markdown",
            "source": "check if there is any Neighborhood is NA value"
        },
        {
            "metadata": {},
            "cell_type": "code",
            "source": "df['Neighborhood'].isnull().sum()",
            "execution_count": 10,
            "outputs": [
                {
                    "output_type": "execute_result",
                    "execution_count": 10,
                    "data": {
                        "text/plain": "0"
                    },
                    "metadata": {}
                }
            ]
        },
        {
            "metadata": {},
            "cell_type": "code",
            "source": "df.shape",
            "execution_count": 11,
            "outputs": [
                {
                    "output_type": "execute_result",
                    "execution_count": 11,
                    "data": {
                        "text/plain": "(103, 3)"
                    },
                    "metadata": {}
                }
            ]
        },
        {
            "metadata": {},
            "cell_type": "code",
            "source": "!conda install -c conda-forge geopy --yes",
            "execution_count": 1,
            "outputs": [
                {
                    "output_type": "stream",
                    "text": "Solving environment: done\n\n## Package Plan ##\n\n  environment location: /opt/conda/envs/Python36\n\n  added / updated specs: \n    - geopy\n\n\nThe following packages will be downloaded:\n\n    package                    |            build\n    ---------------------------|-----------------\n    python_abi-3.6             |          1_cp36m           4 KB  conda-forge\n    openssl-1.1.1f             |       h516909a_0         2.1 MB  conda-forge\n    geographiclib-1.50         |             py_0          34 KB  conda-forge\n    geopy-1.21.0               |             py_0          58 KB  conda-forge\n    certifi-2020.4.5.1         |   py36h9f0ad1d_0         151 KB  conda-forge\n    ca-certificates-2020.4.5.1 |       hecc5488_0         146 KB  conda-forge\n    ------------------------------------------------------------\n                                           Total:         2.5 MB\n\nThe following NEW packages will be INSTALLED:\n\n    geographiclib:   1.50-py_0         conda-forge\n    geopy:           1.21.0-py_0       conda-forge\n    python_abi:      3.6-1_cp36m       conda-forge\n\nThe following packages will be UPDATED:\n\n    ca-certificates: 2020.1.1-0                    --> 2020.4.5.1-hecc5488_0     conda-forge\n    certifi:         2019.11.28-py36_0             --> 2020.4.5.1-py36h9f0ad1d_0 conda-forge\n    openssl:         1.1.1e-h7b6447c_0             --> 1.1.1f-h516909a_0         conda-forge\n\n\nDownloading and Extracting Packages\npython_abi-3.6       | 4 KB      | ##################################### | 100% \nopenssl-1.1.1f       | 2.1 MB    | ##################################### | 100% \ngeographiclib-1.50   | 34 KB     | ##################################### | 100% \ngeopy-1.21.0         | 58 KB     | ##################################### | 100% \ncertifi-2020.4.5.1   | 151 KB    | ##################################### | 100% \nca-certificates-2020 | 146 KB    | ##################################### | 100% \nPreparing transaction: done\nVerifying transaction: done\nExecuting transaction: done\n",
                    "name": "stdout"
                }
            ]
        },
        {
            "metadata": {},
            "cell_type": "code",
            "source": "from geopy.geocoders import Nominatim",
            "execution_count": 2,
            "outputs": []
        },
        {
            "metadata": {},
            "cell_type": "code",
            "source": "latitude=[]\nlongitude=[]\n\nfor address in df['Borough']:\n    geolocator = Nominatim()\n    location = geolocator.geocode(address)\n    lat = location.latitude\n    long = location.longitude\n    latitude.append(lat)\n    longitude.append(long)\n",
            "execution_count": 20,
            "outputs": [
                {
                    "output_type": "stream",
                    "text": "/opt/conda/envs/Python36/lib/python3.6/site-packages/ipykernel/__main__.py:5: DeprecationWarning: Using Nominatim with the default \"geopy/1.21.0\" `user_agent` is strongly discouraged, as it violates Nominatim's ToS https://operations.osmfoundation.org/policies/nominatim/ and may possibly cause 403 and 429 HTTP errors. Please specify a custom `user_agent` with `Nominatim(user_agent=\"my-application\")` or by overriding the default `user_agent`: `geopy.geocoders.options.default_user_agent = \"my-application\"`. In geopy 2.0 this will become an exception.\n",
                    "name": "stderr"
                }
            ]
        },
        {
            "metadata": {},
            "cell_type": "code",
            "source": "latitude",
            "execution_count": 26,
            "outputs": [
                {
                    "output_type": "execute_result",
                    "execution_count": 26,
                    "data": {
                        "text/plain": "[43.7543263,\n 43.7543263,\n 43.6541737,\n 43.7543263,\n 43.6541737,\n 43.671459150000004,\n 54.2820009,\n 43.7543263,\n 39.9737093,\n 43.6541737,\n 43.7543263,\n 43.671459150000004,\n 54.2820009,\n 43.7543263,\n 39.9737093,\n 43.6541737,\n 53.9590555,\n 43.671459150000004,\n 54.2820009,\n 43.6534817,\n 43.6541737,\n 53.9590555,\n 54.2820009,\n 39.9737093,\n 43.6541737,\n 43.6541737,\n 54.2820009,\n 43.7543263,\n 43.7543263,\n 39.9737093,\n 43.6541737,\n 43.6534817,\n 54.2820009,\n 43.7543263,\n 43.7543263,\n 39.9737093,\n 43.6541737,\n 43.6534817,\n 54.2820009,\n 43.7543263,\n 43.7543263,\n 43.6534817,\n 43.6541737,\n 43.6534817,\n 54.2820009,\n 43.7543263,\n 43.7543263,\n 43.6534817,\n 43.6541737,\n 43.7543263,\n 43.7543263,\n 54.2820009,\n 43.7543263,\n 43.7543263,\n 43.6534817,\n 43.7543263,\n 53.9590555,\n 43.7543263,\n 54.2820009,\n 43.7543263,\n 43.7543263,\n 43.6534817,\n 43.6534817,\n 53.9590555,\n 53.9590555,\n 54.2820009,\n 43.7543263,\n 43.6534817,\n 43.6534817,\n 43.6534817,\n 43.671459150000004,\n 54.2820009,\n 43.7543263,\n 43.6534817,\n 43.6534817,\n 43.6534817,\n 43.590338,\n 43.671459150000004,\n 54.2820009,\n 43.6534817,\n 43.6541737,\n 43.6534817,\n 54.2820009,\n 43.6534817,\n 43.6541737,\n 54.2820009,\n 43.6534817,\n 43.6541737,\n 43.671459150000004,\n 43.671459150000004,\n 54.2820009,\n 43.6541737,\n 43.6541737,\n 43.671459150000004,\n 43.671459150000004,\n 54.2820009,\n 43.6541737,\n 43.6541737,\n 43.671459150000004,\n 43.6541737,\n 43.6534817,\n 43.671459150000004,\n 43.671459150000004]"
                    },
                    "metadata": {}
                }
            ]
        },
        {
            "metadata": {},
            "cell_type": "code",
            "source": "",
            "execution_count": 19,
            "outputs": [
                {
                    "output_type": "stream",
                    "text": "/opt/conda/envs/Python36/lib/python3.6/site-packages/ipykernel/__main__.py:3: DeprecationWarning: Using Nominatim with the default \"geopy/1.21.0\" `user_agent` is strongly discouraged, as it violates Nominatim's ToS https://operations.osmfoundation.org/policies/nominatim/ and may possibly cause 403 and 429 HTTP errors. Please specify a custom `user_agent` with `Nominatim(user_agent=\"my-application\")` or by overriding the default `user_agent`: `geopy.geocoders.options.default_user_agent = \"my-application\"`. In geopy 2.0 this will become an exception.\n  app.launch_new_instance()\n",
                    "name": "stderr"
                },
                {
                    "output_type": "stream",
                    "text": "The geograpical coordinate of Toronto are 43.671459150000004, -79.55249206611668.\n",
                    "name": "stdout"
                }
            ]
        },
        {
            "metadata": {},
            "cell_type": "code",
            "source": "",
            "execution_count": 22,
            "outputs": [
                {
                    "output_type": "execute_result",
                    "execution_count": 22,
                    "data": {
                        "text/plain": "[43.7543263,\n 43.7543263,\n 43.6541737,\n 43.7543263,\n 43.6541737,\n 43.671459150000004,\n 54.2820009,\n 43.7543263,\n 39.9737093,\n 43.6541737,\n 43.7543263,\n 43.671459150000004,\n 54.2820009,\n 43.7543263,\n 39.9737093,\n 43.6541737,\n 53.9590555,\n 43.671459150000004,\n 54.2820009,\n 43.6534817,\n 43.6541737,\n 53.9590555,\n 54.2820009,\n 39.9737093,\n 43.6541737,\n 43.6541737,\n 54.2820009,\n 43.7543263,\n 43.7543263,\n 39.9737093,\n 43.6541737,\n 43.6534817,\n 54.2820009,\n 43.7543263,\n 43.7543263,\n 39.9737093,\n 43.6541737,\n 43.6534817,\n 54.2820009,\n 43.7543263,\n 43.7543263,\n 43.6534817,\n 43.6541737,\n 43.6534817,\n 54.2820009,\n 43.7543263,\n 43.7543263,\n 43.6534817,\n 43.6541737,\n 43.7543263,\n 43.7543263,\n 54.2820009,\n 43.7543263,\n 43.7543263,\n 43.6534817,\n 43.7543263,\n 53.9590555,\n 43.7543263,\n 54.2820009,\n 43.7543263,\n 43.7543263,\n 43.6534817,\n 43.6534817,\n 53.9590555,\n 53.9590555,\n 54.2820009,\n 43.7543263,\n 43.6534817,\n 43.6534817,\n 43.6534817,\n 43.671459150000004,\n 54.2820009,\n 43.7543263,\n 43.6534817,\n 43.6534817,\n 43.6534817,\n 43.590338,\n 43.671459150000004,\n 54.2820009,\n 43.6534817,\n 43.6541737,\n 43.6534817,\n 54.2820009,\n 43.6534817,\n 43.6541737,\n 54.2820009,\n 43.6534817,\n 43.6541737,\n 43.671459150000004,\n 43.671459150000004,\n 54.2820009,\n 43.6541737,\n 43.6541737,\n 43.671459150000004,\n 43.671459150000004,\n 54.2820009,\n 43.6541737,\n 43.6541737,\n 43.671459150000004,\n 43.6541737,\n 43.6534817,\n 43.671459150000004,\n 43.671459150000004]"
                    },
                    "metadata": {}
                }
            ]
        },
        {
            "metadata": {},
            "cell_type": "code",
            "source": "",
            "execution_count": null,
            "outputs": []
        }
    ],
    "metadata": {
        "kernelspec": {
            "name": "python3",
            "display_name": "Python 3.6",
            "language": "python"
        },
        "language_info": {
            "name": "python",
            "version": "3.6.9",
            "mimetype": "text/x-python",
            "codemirror_mode": {
                "name": "ipython",
                "version": 3
            },
            "pygments_lexer": "ipython3",
            "nbconvert_exporter": "python",
            "file_extension": ".py"
        }
    },
    "nbformat": 4,
    "nbformat_minor": 1
}