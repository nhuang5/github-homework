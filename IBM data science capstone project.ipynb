{
 "cells": [
  {
   "cell_type": "markdown",
   "metadata": {},
   "source": [
    "# Marketing analysis for ABC (Alias) management"
   ]
  },
  {
   "cell_type": "markdown",
   "metadata": {},
   "source": [
    "### 1.\tIntroduction"
   ]
  },
  {
   "cell_type": "markdown",
   "metadata": {},
   "source": [
    "### 1.1\tBackground"
   ]
  },
  {
   "cell_type": "markdown",
   "metadata": {},
   "source": [
    "ABC management company owns an amusement park close to New York city and its main service is the park management. The park is planning to expand and attract more visitors from New York. Each year, there are large amount of both new and return visitors. They come from all different backgrounds. Some are young teenagers with friends, and some are parents with kids, etc. They all reflex different consuming behaviors as well. Therefore, the ABC management need market analysis on the New York consuming behaviors and also its own exiting customer in order to target different groups of visitors marketing pitch so that they can increase the park traffic and increase the park revenue. ABC management also needs a prediction on total spending by new York visitors in order to know its potential revenue and marketing budget as well. "
   ]
  },
  {
   "cell_type": "markdown",
   "metadata": {},
   "source": [
    "### 1.2\tProblem "
   ]
  },
  {
   "cell_type": "markdown",
   "metadata": {},
   "source": [
    "ABC management company has a hypothesis that some recent analysis of the leisure preferences of people in the Greater New York City area indicates that they prefer short getaways to long vacations. If this hypothesis is true, that will draw more visitors from New York in a constant growth rate. ABC needs segments of its existing park visitors to create targeting campaign and marketing materials. Then the prediction of park revenue is needed to budget marketing spending."
   ]
  },
  {
   "cell_type": "markdown",
   "metadata": {},
   "source": [
    "### 1.3\tInterest"
   ]
  },
  {
   "cell_type": "markdown",
   "metadata": {},
   "source": [
    "The interest of this analysis is to understand the New York consumers that related to ABC park and also understand the park existing visitors so that marketing strategies can be created more accurately targeting different segments of customer. \n",
    "\n"
   ]
  },
  {
   "cell_type": "markdown",
   "metadata": {},
   "source": [
    "### 2.\tData acquisition and cleaning "
   ]
  },
  {
   "cell_type": "markdown",
   "metadata": {},
   "source": [
    "### 2.1 Data sources "
   ]
  },
  {
   "cell_type": "markdown",
   "metadata": {},
   "source": [
    "The data for analysis on new York consuming behavior can be found through new York open data. I downloaded the csv file and import to python. There are one file for basic new Yorkers’ household and leisure spending, and another file of information for new York visitors to new England park. The rest company data was provided by ABC company. "
   ]
  },
  {
   "cell_type": "markdown",
   "metadata": {},
   "source": [
    "### 2.2 Data cleaning "
   ]
  },
  {
   "cell_type": "markdown",
   "metadata": {},
   "source": [
    "Since the new York consuming data was downloaded from the an relative official website. The information in the database is very comprehensive and complete. I used the commend to check if the missing values and erase them. "
   ]
  },
  {
   "cell_type": "markdown",
   "metadata": {},
   "source": [
    "### 3.\tExploratory Data Analysis"
   ]
  },
  {
   "cell_type": "markdown",
   "metadata": {},
   "source": [
    "### 3.1 stats summary on New York consumer "
   ]
  },
  {
   "cell_type": "code",
   "execution_count": 2,
   "metadata": {},
   "outputs": [
    {
     "name": "stdout",
     "output_type": "stream",
     "text": [
      "/Users/nico/Desktop/bu/AD654/groupproject\n"
     ]
    }
   ],
   "source": [
    "import pandas as pd\n",
    "import numpy as np\n",
    "import matplotlib.pyplot as plt\n",
    "import seaborn as sns"
   ]
  },
  {
   "cell_type": "markdown",
   "metadata": {},
   "source": [
    "Based on the summary over the new York consumer dataset, we found that median of household in new York contains 3 people that includes 1 kid and has adjusted gross income of $ 180436, the average spending on leisure annual is $7472 and the average spending on travelling nationwide is $4816. "
   ]
  },
  {
   "cell_type": "code",
   "execution_count": 3,
   "metadata": {},
   "outputs": [
    {
     "data": {
      "text/html": [
       "<div>\n",
       "<style scoped>\n",
       "    .dataframe tbody tr th:only-of-type {\n",
       "        vertical-align: middle;\n",
       "    }\n",
       "\n",
       "    .dataframe tbody tr th {\n",
       "        vertical-align: top;\n",
       "    }\n",
       "\n",
       "    .dataframe thead th {\n",
       "        text-align: right;\n",
       "    }\n",
       "</style>\n",
       "<table border=\"1\" class=\"dataframe\">\n",
       "  <thead>\n",
       "    <tr style=\"text-align: right;\">\n",
       "      <th></th>\n",
       "      <th>householdID</th>\n",
       "      <th>state</th>\n",
       "      <th>county</th>\n",
       "      <th>householdpax</th>\n",
       "      <th>AGI</th>\n",
       "      <th>conusleisure</th>\n",
       "      <th>children</th>\n",
       "      <th>leisureavg</th>\n",
       "    </tr>\n",
       "  </thead>\n",
       "  <tbody>\n",
       "    <tr>\n",
       "      <td>0</td>\n",
       "      <td>1</td>\n",
       "      <td>New York</td>\n",
       "      <td>Nassau</td>\n",
       "      <td>4</td>\n",
       "      <td>179883.69</td>\n",
       "      <td>7115.75</td>\n",
       "      <td>1</td>\n",
       "      <td>9193.40</td>\n",
       "    </tr>\n",
       "    <tr>\n",
       "      <td>1</td>\n",
       "      <td>2</td>\n",
       "      <td>New York</td>\n",
       "      <td>Nassau</td>\n",
       "      <td>2</td>\n",
       "      <td>169985.69</td>\n",
       "      <td>4967.27</td>\n",
       "      <td>1</td>\n",
       "      <td>7914.61</td>\n",
       "    </tr>\n",
       "    <tr>\n",
       "      <td>2</td>\n",
       "      <td>3</td>\n",
       "      <td>New York</td>\n",
       "      <td>Nassau</td>\n",
       "      <td>3</td>\n",
       "      <td>174330.05</td>\n",
       "      <td>3088.74</td>\n",
       "      <td>2</td>\n",
       "      <td>7885.29</td>\n",
       "    </tr>\n",
       "    <tr>\n",
       "      <td>3</td>\n",
       "      <td>4</td>\n",
       "      <td>New York</td>\n",
       "      <td>Nassau</td>\n",
       "      <td>5</td>\n",
       "      <td>192924.29</td>\n",
       "      <td>4841.22</td>\n",
       "      <td>2</td>\n",
       "      <td>5472.83</td>\n",
       "    </tr>\n",
       "    <tr>\n",
       "      <td>4</td>\n",
       "      <td>5</td>\n",
       "      <td>New York</td>\n",
       "      <td>Nassau</td>\n",
       "      <td>2</td>\n",
       "      <td>153443.55</td>\n",
       "      <td>5745.79</td>\n",
       "      <td>1</td>\n",
       "      <td>7859.36</td>\n",
       "    </tr>\n",
       "  </tbody>\n",
       "</table>\n",
       "</div>"
      ],
      "text/plain": [
       "   householdID     state  county  householdpax        AGI  conusleisure  \\\n",
       "0            1  New York  Nassau             4  179883.69       7115.75   \n",
       "1            2  New York  Nassau             2  169985.69       4967.27   \n",
       "2            3  New York  Nassau             3  174330.05       3088.74   \n",
       "3            4  New York  Nassau             5  192924.29       4841.22   \n",
       "4            5  New York  Nassau             2  153443.55       5745.79   \n",
       "\n",
       "   children  leisureavg  \n",
       "0         1     9193.40  \n",
       "1         1     7914.61  \n",
       "2         2     7885.29  \n",
       "3         2     5472.83  \n",
       "4         1     7859.36  "
      ]
     },
     "execution_count": 3,
     "metadata": {},
     "output_type": "execute_result"
    }
   ],
   "source": [
    "nyconsum = pd.read_csv('nycconsumers.csv')\n",
    "nyconsum.head()"
   ]
  },
  {
   "cell_type": "code",
   "execution_count": 4,
   "metadata": {},
   "outputs": [
    {
     "data": {
      "text/plain": [
       "householdID     0\n",
       "state           0\n",
       "county          0\n",
       "householdpax    0\n",
       "AGI             0\n",
       "conusleisure    0\n",
       "children        0\n",
       "leisureavg      0\n",
       "dtype: int64"
      ]
     },
     "execution_count": 4,
     "metadata": {},
     "output_type": "execute_result"
    }
   ],
   "source": [
    "nyconsum.isnull().sum()"
   ]
  },
  {
   "cell_type": "code",
   "execution_count": 5,
   "metadata": {},
   "outputs": [
    {
     "data": {
      "text/html": [
       "<div>\n",
       "<style scoped>\n",
       "    .dataframe tbody tr th:only-of-type {\n",
       "        vertical-align: middle;\n",
       "    }\n",
       "\n",
       "    .dataframe tbody tr th {\n",
       "        vertical-align: top;\n",
       "    }\n",
       "\n",
       "    .dataframe thead th {\n",
       "        text-align: right;\n",
       "    }\n",
       "</style>\n",
       "<table border=\"1\" class=\"dataframe\">\n",
       "  <thead>\n",
       "    <tr style=\"text-align: right;\">\n",
       "      <th></th>\n",
       "      <th>count</th>\n",
       "      <th>mean</th>\n",
       "      <th>std</th>\n",
       "      <th>min</th>\n",
       "      <th>25%</th>\n",
       "      <th>50%</th>\n",
       "      <th>75%</th>\n",
       "      <th>max</th>\n",
       "    </tr>\n",
       "    <tr>\n",
       "      <th>children</th>\n",
       "      <th></th>\n",
       "      <th></th>\n",
       "      <th></th>\n",
       "      <th></th>\n",
       "      <th></th>\n",
       "      <th></th>\n",
       "      <th></th>\n",
       "      <th></th>\n",
       "    </tr>\n",
       "  </thead>\n",
       "  <tbody>\n",
       "    <tr>\n",
       "      <td>0</td>\n",
       "      <td>1631.0</td>\n",
       "      <td>7480.211097</td>\n",
       "      <td>1181.512236</td>\n",
       "      <td>3772.02</td>\n",
       "      <td>6716.210</td>\n",
       "      <td>7453.930</td>\n",
       "      <td>8265.560</td>\n",
       "      <td>11531.30</td>\n",
       "    </tr>\n",
       "    <tr>\n",
       "      <td>1</td>\n",
       "      <td>2760.0</td>\n",
       "      <td>7449.148913</td>\n",
       "      <td>1215.420146</td>\n",
       "      <td>2570.00</td>\n",
       "      <td>6652.545</td>\n",
       "      <td>7428.765</td>\n",
       "      <td>8265.465</td>\n",
       "      <td>11509.60</td>\n",
       "    </tr>\n",
       "    <tr>\n",
       "      <td>2</td>\n",
       "      <td>1481.0</td>\n",
       "      <td>7502.292431</td>\n",
       "      <td>1215.243593</td>\n",
       "      <td>4054.74</td>\n",
       "      <td>6658.020</td>\n",
       "      <td>7485.730</td>\n",
       "      <td>8387.730</td>\n",
       "      <td>11288.49</td>\n",
       "    </tr>\n",
       "    <tr>\n",
       "      <td>3</td>\n",
       "      <td>126.0</td>\n",
       "      <td>7516.860476</td>\n",
       "      <td>1151.203111</td>\n",
       "      <td>5186.90</td>\n",
       "      <td>6750.500</td>\n",
       "      <td>7576.985</td>\n",
       "      <td>8231.975</td>\n",
       "      <td>10535.90</td>\n",
       "    </tr>\n",
       "    <tr>\n",
       "      <td>4</td>\n",
       "      <td>2.0</td>\n",
       "      <td>7482.650000</td>\n",
       "      <td>582.627703</td>\n",
       "      <td>7070.67</td>\n",
       "      <td>7276.660</td>\n",
       "      <td>7482.650</td>\n",
       "      <td>7688.640</td>\n",
       "      <td>7894.63</td>\n",
       "    </tr>\n",
       "  </tbody>\n",
       "</table>\n",
       "</div>"
      ],
      "text/plain": [
       "           count         mean          std      min       25%       50%  \\\n",
       "children                                                                  \n",
       "0         1631.0  7480.211097  1181.512236  3772.02  6716.210  7453.930   \n",
       "1         2760.0  7449.148913  1215.420146  2570.00  6652.545  7428.765   \n",
       "2         1481.0  7502.292431  1215.243593  4054.74  6658.020  7485.730   \n",
       "3          126.0  7516.860476  1151.203111  5186.90  6750.500  7576.985   \n",
       "4            2.0  7482.650000   582.627703  7070.67  7276.660  7482.650   \n",
       "\n",
       "               75%       max  \n",
       "children                      \n",
       "0         8265.560  11531.30  \n",
       "1         8265.465  11509.60  \n",
       "2         8387.730  11288.49  \n",
       "3         8231.975  10535.90  \n",
       "4         7688.640   7894.63  "
      ]
     },
     "execution_count": 5,
     "metadata": {},
     "output_type": "execute_result"
    }
   ],
   "source": [
    "nyconsum.groupby('children').describe()['leisureavg']"
   ]
  },
  {
   "cell_type": "code",
   "execution_count": 6,
   "metadata": {},
   "outputs": [
    {
     "data": {
      "text/html": [
       "<div>\n",
       "<style scoped>\n",
       "    .dataframe tbody tr th:only-of-type {\n",
       "        vertical-align: middle;\n",
       "    }\n",
       "\n",
       "    .dataframe tbody tr th {\n",
       "        vertical-align: top;\n",
       "    }\n",
       "\n",
       "    .dataframe thead th {\n",
       "        text-align: right;\n",
       "    }\n",
       "</style>\n",
       "<table border=\"1\" class=\"dataframe\">\n",
       "  <thead>\n",
       "    <tr style=\"text-align: right;\">\n",
       "      <th></th>\n",
       "      <th>count</th>\n",
       "      <th>mean</th>\n",
       "      <th>std</th>\n",
       "      <th>min</th>\n",
       "      <th>25%</th>\n",
       "      <th>50%</th>\n",
       "      <th>75%</th>\n",
       "      <th>max</th>\n",
       "    </tr>\n",
       "    <tr>\n",
       "      <th>householdpax</th>\n",
       "      <th></th>\n",
       "      <th></th>\n",
       "      <th></th>\n",
       "      <th></th>\n",
       "      <th></th>\n",
       "      <th></th>\n",
       "      <th></th>\n",
       "      <th></th>\n",
       "    </tr>\n",
       "  </thead>\n",
       "  <tbody>\n",
       "    <tr>\n",
       "      <td>1</td>\n",
       "      <td>992.0</td>\n",
       "      <td>7449.119677</td>\n",
       "      <td>1189.618623</td>\n",
       "      <td>3772.02</td>\n",
       "      <td>6675.8150</td>\n",
       "      <td>7364.490</td>\n",
       "      <td>8265.2000</td>\n",
       "      <td>11236.48</td>\n",
       "    </tr>\n",
       "    <tr>\n",
       "      <td>2</td>\n",
       "      <td>1251.0</td>\n",
       "      <td>7455.519880</td>\n",
       "      <td>1194.916970</td>\n",
       "      <td>2570.00</td>\n",
       "      <td>6650.5600</td>\n",
       "      <td>7462.680</td>\n",
       "      <td>8283.7400</td>\n",
       "      <td>11509.60</td>\n",
       "    </tr>\n",
       "    <tr>\n",
       "      <td>3</td>\n",
       "      <td>1504.0</td>\n",
       "      <td>7477.271323</td>\n",
       "      <td>1207.755883</td>\n",
       "      <td>3767.07</td>\n",
       "      <td>6668.6675</td>\n",
       "      <td>7445.880</td>\n",
       "      <td>8307.8550</td>\n",
       "      <td>11288.49</td>\n",
       "    </tr>\n",
       "    <tr>\n",
       "      <td>4</td>\n",
       "      <td>1213.0</td>\n",
       "      <td>7481.946249</td>\n",
       "      <td>1213.659475</td>\n",
       "      <td>3701.28</td>\n",
       "      <td>6659.2200</td>\n",
       "      <td>7473.300</td>\n",
       "      <td>8280.3500</td>\n",
       "      <td>11531.30</td>\n",
       "    </tr>\n",
       "    <tr>\n",
       "      <td>5</td>\n",
       "      <td>710.0</td>\n",
       "      <td>7494.749775</td>\n",
       "      <td>1220.554515</td>\n",
       "      <td>3765.75</td>\n",
       "      <td>6683.9250</td>\n",
       "      <td>7501.075</td>\n",
       "      <td>8336.8050</td>\n",
       "      <td>10579.75</td>\n",
       "    </tr>\n",
       "    <tr>\n",
       "      <td>6</td>\n",
       "      <td>253.0</td>\n",
       "      <td>7507.911304</td>\n",
       "      <td>1194.375681</td>\n",
       "      <td>4401.23</td>\n",
       "      <td>6736.0900</td>\n",
       "      <td>7607.360</td>\n",
       "      <td>8349.3100</td>\n",
       "      <td>10136.40</td>\n",
       "    </tr>\n",
       "    <tr>\n",
       "      <td>7</td>\n",
       "      <td>68.0</td>\n",
       "      <td>7491.763382</td>\n",
       "      <td>1323.828211</td>\n",
       "      <td>4286.98</td>\n",
       "      <td>6645.5200</td>\n",
       "      <td>7292.060</td>\n",
       "      <td>8428.5575</td>\n",
       "      <td>10120.10</td>\n",
       "    </tr>\n",
       "    <tr>\n",
       "      <td>8</td>\n",
       "      <td>7.0</td>\n",
       "      <td>7081.695714</td>\n",
       "      <td>590.726099</td>\n",
       "      <td>6511.05</td>\n",
       "      <td>6686.4150</td>\n",
       "      <td>6920.240</td>\n",
       "      <td>7348.9750</td>\n",
       "      <td>8069.80</td>\n",
       "    </tr>\n",
       "    <tr>\n",
       "      <td>9</td>\n",
       "      <td>2.0</td>\n",
       "      <td>7637.735000</td>\n",
       "      <td>1744.821338</td>\n",
       "      <td>6403.96</td>\n",
       "      <td>7020.8475</td>\n",
       "      <td>7637.735</td>\n",
       "      <td>8254.6225</td>\n",
       "      <td>8871.51</td>\n",
       "    </tr>\n",
       "  </tbody>\n",
       "</table>\n",
       "</div>"
      ],
      "text/plain": [
       "               count         mean          std      min        25%       50%  \\\n",
       "householdpax                                                                   \n",
       "1              992.0  7449.119677  1189.618623  3772.02  6675.8150  7364.490   \n",
       "2             1251.0  7455.519880  1194.916970  2570.00  6650.5600  7462.680   \n",
       "3             1504.0  7477.271323  1207.755883  3767.07  6668.6675  7445.880   \n",
       "4             1213.0  7481.946249  1213.659475  3701.28  6659.2200  7473.300   \n",
       "5              710.0  7494.749775  1220.554515  3765.75  6683.9250  7501.075   \n",
       "6              253.0  7507.911304  1194.375681  4401.23  6736.0900  7607.360   \n",
       "7               68.0  7491.763382  1323.828211  4286.98  6645.5200  7292.060   \n",
       "8                7.0  7081.695714   590.726099  6511.05  6686.4150  6920.240   \n",
       "9                2.0  7637.735000  1744.821338  6403.96  7020.8475  7637.735   \n",
       "\n",
       "                    75%       max  \n",
       "householdpax                       \n",
       "1             8265.2000  11236.48  \n",
       "2             8283.7400  11509.60  \n",
       "3             8307.8550  11288.49  \n",
       "4             8280.3500  11531.30  \n",
       "5             8336.8050  10579.75  \n",
       "6             8349.3100  10136.40  \n",
       "7             8428.5575  10120.10  \n",
       "8             7348.9750   8069.80  \n",
       "9             8254.6225   8871.51  "
      ]
     },
     "execution_count": 6,
     "metadata": {},
     "output_type": "execute_result"
    }
   ],
   "source": [
    "nyconsum.groupby('householdpax').describe()['leisureavg']"
   ]
  },
  {
   "cell_type": "markdown",
   "metadata": {},
   "source": [
    "The household with 1 or 2 kids will spending more travelling both leisure or nationwide. But household of 2 people (most likely they are married but no kids) spend more than household of 3 people that includes 1 kid on leisure trip. This fact confirms the hypothesis that married couples in the new York consumers group prefer leisure trip better than long distance vacation. "
   ]
  },
  {
   "cell_type": "markdown",
   "metadata": {},
   "source": [
    "We examined the annual spending on leisure travel, a histogram can help visualize the spending distribution:"
   ]
  },
  {
   "cell_type": "code",
   "execution_count": 7,
   "metadata": {},
   "outputs": [
    {
     "data": {
      "text/plain": [
       "Text(0.5, 1.0, 'Histogram of leisureavg')"
      ]
     },
     "execution_count": 7,
     "metadata": {},
     "output_type": "execute_result"
    },
    {
     "data": {
      "image/png": "[encoded data removed]",
      "text/plain": [
       "<Figure size 432x288 with 1 Axes>"
      ]
     },
     "metadata": {
      "needs_background": "light"
     },
     "output_type": "display_data"
    }
   ],
   "source": [
    "%matplotlib inline\n",
    "from matplotlib import pyplot as plt\n",
    "plt.hist(nyconsum['leisureavg'],5,color=\"skyblue\",ec = 'black')\n",
    "plt.xlabel('leisureavg')\n",
    "plt.title('Histogram of leisureavg')"
   ]
  },
  {
   "cell_type": "markdown",
   "metadata": {},
   "source": [
    "We also tried to find relationships between geographic location and gross income to the leisure spending. The results for mean gross income per county and mean leisure travels spending per county are listed below by descending order:\n"
   ]
  },
  {
   "cell_type": "code",
   "execution_count": 8,
   "metadata": {},
   "outputs": [
    {
     "data": {
      "text/plain": [
       "county\n",
       "Westchester    202542.48515\n",
       "Fairfield      191869.37832\n",
       "Bergen         187061.47080\n",
       "Morris         181537.75586\n",
       "Hudson         178790.57408\n",
       "New York       177136.37092\n",
       "Nassau         176586.67408\n",
       "Kings          176520.22080\n",
       "Suffolk        175842.66726\n",
       "Queens         165360.41478\n",
       "Bronx          162137.82440\n",
       "Passaic        153414.83836\n",
       "Name: AGI, dtype: float64"
      ]
     },
     "execution_count": 8,
     "metadata": {},
     "output_type": "execute_result"
    }
   ],
   "source": [
    "nyconsum.groupby('county')['AGI'].mean().sort_values(ascending=False)"
   ]
  },
  {
   "cell_type": "code",
   "execution_count": 9,
   "metadata": {},
   "outputs": [
    {
     "data": {
      "text/plain": [
       "county\n",
       "Passaic        7538.15932\n",
       "Fairfield      7537.49430\n",
       "Nassau         7526.01608\n",
       "Suffolk        7505.84534\n",
       "Bergen         7496.66408\n",
       "Kings          7474.82102\n",
       "Queens         7463.39362\n",
       "Westchester    7453.86092\n",
       "Morris         7447.50262\n",
       "Hudson         7441.16172\n",
       "Bronx          7426.38236\n",
       "New York       7390.21844\n",
       "Name: leisureavg, dtype: float64"
      ]
     },
     "execution_count": 9,
     "metadata": {},
     "output_type": "execute_result"
    }
   ],
   "source": [
    "nyconsum.groupby('county')['leisureavg'].mean().sort_values(ascending=False)"
   ]
  },
  {
   "cell_type": "markdown",
   "metadata": {},
   "source": [
    "We can identify the top 5 high income counties are: Westchester, Fairfield, Bergen, Morris and Hudson. However, the top 5 leisure spending counties are: Passaic, Fairfield, Nassau, Suffolk and Bergen. Among all, worth mentioned that Passaic seems to have the least gross income household, but they spend the most on leisure trips. "
   ]
  },
  {
   "cell_type": "markdown",
   "metadata": {},
   "source": [
    "Further to exam the relationship between gross income and leisure travel spending, and we found there is none linear relationship between those two aspects. The scatter plot is used to visualize if any correlation relationship existed:"
   ]
  },
  {
   "cell_type": "code",
   "execution_count": 10,
   "metadata": {},
   "outputs": [
    {
     "data": {
      "text/plain": [
       "Text(0.5, 1.0, 'Scatter Plot of income to leisure spending')"
      ]
     },
     "execution_count": 10,
     "metadata": {},
     "output_type": "execute_result"
    },
    {
     "data": {
      "image/png": "[encoded data removed]",
      "text/plain": [
       "<Figure size 432x288 with 1 Axes>"
      ]
     },
     "metadata": {
      "needs_background": "light"
     },
     "output_type": "display_data"
    }
   ],
   "source": [
    "plt.scatter(nyconsum['AGI'],nyconsum['leisureavg'])\n",
    "plt.xlabel('Gross Income')\n",
    "plt.ylabel('Leisureavg')\n",
    "plt.title('Scatter Plot of income to leisure spending')"
   ]
  },
  {
   "cell_type": "code",
   "execution_count": null,
   "metadata": {},
   "outputs": [],
   "source": []
  }
 ],
 "metadata": {
  "kernelspec": {
   "display_name": "Python 3",
   "language": "python",
   "name": "python3"
  },
  "language_info": {
   "codemirror_mode": {
    "name": "ipython",
    "version": 3
   },
   "file_extension": ".py",
   "mimetype": "text/x-python",
   "name": "python",
   "nbconvert_exporter": "python",
   "pygments_lexer": "ipython3",
   "version": "3.7.4"
  }
 },
 "nbformat": 4,
 "nbformat_minor": 2
}
