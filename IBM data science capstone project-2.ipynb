{
 "cells": [
  {
   "cell_type": "markdown",
   "metadata": {},
   "source": [
    "# Marketing analysis for ABC (Alias) management"
   ]
  },
  {
   "cell_type": "markdown",
   "metadata": {},
   "source": [
    "### 1.\tIntroduction"
   ]
  },
  {
   "cell_type": "markdown",
   "metadata": {},
   "source": [
    "### 1.1\tBackground"
   ]
  },
  {
   "cell_type": "markdown",
   "metadata": {},
   "source": [
    "ABC management company owns an amusement park close to New York city and its main service is the park management. The park is planning to expand and attract more visitors from New York. Each year, there are large amount of both new and return visitors. They come from all different backgrounds. Some are young teenagers with friends, and some are parents with kids, etc. They all reflex different consuming behaviors as well. Therefore, the ABC management need market analysis on the New York consuming behaviors and also its own exiting customer in order to target different groups of visitors marketing pitch so that they can increase the park traffic and increase the park revenue. ABC management also needs a prediction on total spending by new York visitors in order to know its potential revenue and marketing budget as well. "
   ]
  },
  {
   "cell_type": "markdown",
   "metadata": {},
   "source": [
    "### 1.2\tProblem "
   ]
  },
  {
   "cell_type": "markdown",
   "metadata": {},
   "source": [
    "ABC management company has a hypothesis that some recent analysis of the leisure preferences of people in the Greater New York City area indicates that they prefer short getaways to long vacations. If this hypothesis is true, that will draw more visitors from New York in a constant growth rate. ABC needs segments of its existing park visitors to create targeting campaign and marketing materials. Then the prediction of park revenue is needed to budget marketing spending."
   ]
  },
  {
   "cell_type": "markdown",
   "metadata": {},
   "source": [
    "### 1.3\tInterest"
   ]
  },
  {
   "cell_type": "markdown",
   "metadata": {},
   "source": [
    "The interest of this analysis is to understand the New York consumers that related to ABC park and also understand the park existing visitors so that marketing strategies can be created more accurately targeting different segments of customer. \n",
    "\n"
   ]
  },
  {
   "cell_type": "markdown",
   "metadata": {},
   "source": [
    "### 2.\tData acquisition and cleaning "
   ]
  },
  {
   "cell_type": "markdown",
   "metadata": {},
   "source": [
    "### 2.1 Data sources "
   ]
  },
  {
   "cell_type": "markdown",
   "metadata": {},
   "source": [
    "The data for analysis on new York consuming behavior can be found through new York open data. I downloaded the csv file and import to python. There are one file for basic new Yorkers’ household and leisure spending, and another file of information for new York visitors to new England park. The rest company data was provided by ABC company. "
   ]
  },
  {
   "cell_type": "markdown",
   "metadata": {},
   "source": [
    "### 2.2 Data cleaning "
   ]
  },
  {
   "cell_type": "markdown",
   "metadata": {},
   "source": [
    "Since the new York consuming data was downloaded from the an relative official website. The information in the database is very comprehensive and complete. I used the commend to check if the missing values and erase them. "
   ]
  },
  {
   "cell_type": "markdown",
   "metadata": {},
   "source": [
    "### 3.\tExploratory Data Analysis"
   ]
  },
  {
   "cell_type": "markdown",
   "metadata": {},
   "source": [
    "### 3.1 stats summary on New York consumer "
   ]
  },
  {
   "cell_type": "code",
   "execution_count": 20,
   "metadata": {},
   "outputs": [],
   "source": [
    "import pandas as pd\n",
    "import numpy as np\n",
    "import matplotlib.pyplot as plt\n",
    "import seaborn as sns\n",
    "import itertools\n",
    "from matplotlib.ticker import NullFormatter\n",
    "import matplotlib.ticker as ticker\n",
    "from sklearn import preprocessing\n",
    "%matplotlib inline"
   ]
  },
  {
   "cell_type": "markdown",
   "metadata": {},
   "source": [
    "Based on the summary over the new York consumer dataset, we found that median of household in new York contains 3 people that includes 1 kid and has adjusted gross income of $ 180436, the average spending on leisure annual is $7472 and the average spending on travelling nationwide is $4816. "
   ]
  },
  {
   "cell_type": "code",
   "execution_count": 13,
   "metadata": {},
   "outputs": [
    {
     "data": {
      "text/html": [
       "<div>\n",
       "<style scoped>\n",
       "    .dataframe tbody tr th:only-of-type {\n",
       "        vertical-align: middle;\n",
       "    }\n",
       "\n",
       "    .dataframe tbody tr th {\n",
       "        vertical-align: top;\n",
       "    }\n",
       "\n",
       "    .dataframe thead th {\n",
       "        text-align: right;\n",
       "    }\n",
       "</style>\n",
       "<table border=\"1\" class=\"dataframe\">\n",
       "  <thead>\n",
       "    <tr style=\"text-align: right;\">\n",
       "      <th></th>\n",
       "      <th>householdID</th>\n",
       "      <th>state</th>\n",
       "      <th>county</th>\n",
       "      <th>householdpax</th>\n",
       "      <th>AGI</th>\n",
       "      <th>conusleisure</th>\n",
       "      <th>children</th>\n",
       "      <th>leisureavg</th>\n",
       "    </tr>\n",
       "  </thead>\n",
       "  <tbody>\n",
       "    <tr>\n",
       "      <td>0</td>\n",
       "      <td>1</td>\n",
       "      <td>New York</td>\n",
       "      <td>Nassau</td>\n",
       "      <td>4</td>\n",
       "      <td>179883.69</td>\n",
       "      <td>7115.75</td>\n",
       "      <td>1</td>\n",
       "      <td>9193.40</td>\n",
       "    </tr>\n",
       "    <tr>\n",
       "      <td>1</td>\n",
       "      <td>2</td>\n",
       "      <td>New York</td>\n",
       "      <td>Nassau</td>\n",
       "      <td>2</td>\n",
       "      <td>169985.69</td>\n",
       "      <td>4967.27</td>\n",
       "      <td>1</td>\n",
       "      <td>7914.61</td>\n",
       "    </tr>\n",
       "    <tr>\n",
       "      <td>2</td>\n",
       "      <td>3</td>\n",
       "      <td>New York</td>\n",
       "      <td>Nassau</td>\n",
       "      <td>3</td>\n",
       "      <td>174330.05</td>\n",
       "      <td>3088.74</td>\n",
       "      <td>2</td>\n",
       "      <td>7885.29</td>\n",
       "    </tr>\n",
       "    <tr>\n",
       "      <td>3</td>\n",
       "      <td>4</td>\n",
       "      <td>New York</td>\n",
       "      <td>Nassau</td>\n",
       "      <td>5</td>\n",
       "      <td>192924.29</td>\n",
       "      <td>4841.22</td>\n",
       "      <td>2</td>\n",
       "      <td>5472.83</td>\n",
       "    </tr>\n",
       "    <tr>\n",
       "      <td>4</td>\n",
       "      <td>5</td>\n",
       "      <td>New York</td>\n",
       "      <td>Nassau</td>\n",
       "      <td>2</td>\n",
       "      <td>153443.55</td>\n",
       "      <td>5745.79</td>\n",
       "      <td>1</td>\n",
       "      <td>7859.36</td>\n",
       "    </tr>\n",
       "  </tbody>\n",
       "</table>\n",
       "</div>"
      ],
      "text/plain": [
       "   householdID     state  county  householdpax        AGI  conusleisure  \\\n",
       "0            1  New York  Nassau             4  179883.69       7115.75   \n",
       "1            2  New York  Nassau             2  169985.69       4967.27   \n",
       "2            3  New York  Nassau             3  174330.05       3088.74   \n",
       "3            4  New York  Nassau             5  192924.29       4841.22   \n",
       "4            5  New York  Nassau             2  153443.55       5745.79   \n",
       "\n",
       "   children  leisureavg  \n",
       "0         1     9193.40  \n",
       "1         1     7914.61  \n",
       "2         2     7885.29  \n",
       "3         2     5472.83  \n",
       "4         1     7859.36  "
      ]
     },
     "execution_count": 13,
     "metadata": {},
     "output_type": "execute_result"
    }
   ],
   "source": [
    "nyconsum = pd.read_csv('nycconsumers.csv')\n",
    "nyconsum.head()"
   ]
  },
  {
   "cell_type": "code",
   "execution_count": 14,
   "metadata": {},
   "outputs": [
    {
     "data": {
      "text/plain": [
       "householdID     0\n",
       "state           0\n",
       "county          0\n",
       "householdpax    0\n",
       "AGI             0\n",
       "conusleisure    0\n",
       "children        0\n",
       "leisureavg      0\n",
       "dtype: int64"
      ]
     },
     "execution_count": 14,
     "metadata": {},
     "output_type": "execute_result"
    }
   ],
   "source": [
    "nyconsum.isnull().sum()"
   ]
  },
  {
   "cell_type": "code",
   "execution_count": 15,
   "metadata": {},
   "outputs": [
    {
     "data": {
      "text/html": [
       "<div>\n",
       "<style scoped>\n",
       "    .dataframe tbody tr th:only-of-type {\n",
       "        vertical-align: middle;\n",
       "    }\n",
       "\n",
       "    .dataframe tbody tr th {\n",
       "        vertical-align: top;\n",
       "    }\n",
       "\n",
       "    .dataframe thead th {\n",
       "        text-align: right;\n",
       "    }\n",
       "</style>\n",
       "<table border=\"1\" class=\"dataframe\">\n",
       "  <thead>\n",
       "    <tr style=\"text-align: right;\">\n",
       "      <th></th>\n",
       "      <th>count</th>\n",
       "      <th>mean</th>\n",
       "      <th>std</th>\n",
       "      <th>min</th>\n",
       "      <th>25%</th>\n",
       "      <th>50%</th>\n",
       "      <th>75%</th>\n",
       "      <th>max</th>\n",
       "    </tr>\n",
       "    <tr>\n",
       "      <th>children</th>\n",
       "      <th></th>\n",
       "      <th></th>\n",
       "      <th></th>\n",
       "      <th></th>\n",
       "      <th></th>\n",
       "      <th></th>\n",
       "      <th></th>\n",
       "      <th></th>\n",
       "    </tr>\n",
       "  </thead>\n",
       "  <tbody>\n",
       "    <tr>\n",
       "      <td>0</td>\n",
       "      <td>1631.0</td>\n",
       "      <td>7480.211097</td>\n",
       "      <td>1181.512236</td>\n",
       "      <td>3772.02</td>\n",
       "      <td>6716.210</td>\n",
       "      <td>7453.930</td>\n",
       "      <td>8265.560</td>\n",
       "      <td>11531.30</td>\n",
       "    </tr>\n",
       "    <tr>\n",
       "      <td>1</td>\n",
       "      <td>2760.0</td>\n",
       "      <td>7449.148913</td>\n",
       "      <td>1215.420146</td>\n",
       "      <td>2570.00</td>\n",
       "      <td>6652.545</td>\n",
       "      <td>7428.765</td>\n",
       "      <td>8265.465</td>\n",
       "      <td>11509.60</td>\n",
       "    </tr>\n",
       "    <tr>\n",
       "      <td>2</td>\n",
       "      <td>1481.0</td>\n",
       "      <td>7502.292431</td>\n",
       "      <td>1215.243593</td>\n",
       "      <td>4054.74</td>\n",
       "      <td>6658.020</td>\n",
       "      <td>7485.730</td>\n",
       "      <td>8387.730</td>\n",
       "      <td>11288.49</td>\n",
       "    </tr>\n",
       "    <tr>\n",
       "      <td>3</td>\n",
       "      <td>126.0</td>\n",
       "      <td>7516.860476</td>\n",
       "      <td>1151.203111</td>\n",
       "      <td>5186.90</td>\n",
       "      <td>6750.500</td>\n",
       "      <td>7576.985</td>\n",
       "      <td>8231.975</td>\n",
       "      <td>10535.90</td>\n",
       "    </tr>\n",
       "    <tr>\n",
       "      <td>4</td>\n",
       "      <td>2.0</td>\n",
       "      <td>7482.650000</td>\n",
       "      <td>582.627703</td>\n",
       "      <td>7070.67</td>\n",
       "      <td>7276.660</td>\n",
       "      <td>7482.650</td>\n",
       "      <td>7688.640</td>\n",
       "      <td>7894.63</td>\n",
       "    </tr>\n",
       "  </tbody>\n",
       "</table>\n",
       "</div>"
      ],
      "text/plain": [
       "           count         mean          std      min       25%       50%  \\\n",
       "children                                                                  \n",
       "0         1631.0  7480.211097  1181.512236  3772.02  6716.210  7453.930   \n",
       "1         2760.0  7449.148913  1215.420146  2570.00  6652.545  7428.765   \n",
       "2         1481.0  7502.292431  1215.243593  4054.74  6658.020  7485.730   \n",
       "3          126.0  7516.860476  1151.203111  5186.90  6750.500  7576.985   \n",
       "4            2.0  7482.650000   582.627703  7070.67  7276.660  7482.650   \n",
       "\n",
       "               75%       max  \n",
       "children                      \n",
       "0         8265.560  11531.30  \n",
       "1         8265.465  11509.60  \n",
       "2         8387.730  11288.49  \n",
       "3         8231.975  10535.90  \n",
       "4         7688.640   7894.63  "
      ]
     },
     "execution_count": 15,
     "metadata": {},
     "output_type": "execute_result"
    }
   ],
   "source": [
    "nyconsum.groupby('children').describe()['leisureavg']"
   ]
  },
  {
   "cell_type": "code",
   "execution_count": 6,
   "metadata": {},
   "outputs": [
    {
     "data": {
      "text/html": [
       "<div>\n",
       "<style scoped>\n",
       "    .dataframe tbody tr th:only-of-type {\n",
       "        vertical-align: middle;\n",
       "    }\n",
       "\n",
       "    .dataframe tbody tr th {\n",
       "        vertical-align: top;\n",
       "    }\n",
       "\n",
       "    .dataframe thead th {\n",
       "        text-align: right;\n",
       "    }\n",
       "</style>\n",
       "<table border=\"1\" class=\"dataframe\">\n",
       "  <thead>\n",
       "    <tr style=\"text-align: right;\">\n",
       "      <th></th>\n",
       "      <th>count</th>\n",
       "      <th>mean</th>\n",
       "      <th>std</th>\n",
       "      <th>min</th>\n",
       "      <th>25%</th>\n",
       "      <th>50%</th>\n",
       "      <th>75%</th>\n",
       "      <th>max</th>\n",
       "    </tr>\n",
       "    <tr>\n",
       "      <th>householdpax</th>\n",
       "      <th></th>\n",
       "      <th></th>\n",
       "      <th></th>\n",
       "      <th></th>\n",
       "      <th></th>\n",
       "      <th></th>\n",
       "      <th></th>\n",
       "      <th></th>\n",
       "    </tr>\n",
       "  </thead>\n",
       "  <tbody>\n",
       "    <tr>\n",
       "      <td>1</td>\n",
       "      <td>992.0</td>\n",
       "      <td>7449.119677</td>\n",
       "      <td>1189.618623</td>\n",
       "      <td>3772.02</td>\n",
       "      <td>6675.8150</td>\n",
       "      <td>7364.490</td>\n",
       "      <td>8265.2000</td>\n",
       "      <td>11236.48</td>\n",
       "    </tr>\n",
       "    <tr>\n",
       "      <td>2</td>\n",
       "      <td>1251.0</td>\n",
       "      <td>7455.519880</td>\n",
       "      <td>1194.916970</td>\n",
       "      <td>2570.00</td>\n",
       "      <td>6650.5600</td>\n",
       "      <td>7462.680</td>\n",
       "      <td>8283.7400</td>\n",
       "      <td>11509.60</td>\n",
       "    </tr>\n",
       "    <tr>\n",
       "      <td>3</td>\n",
       "      <td>1504.0</td>\n",
       "      <td>7477.271323</td>\n",
       "      <td>1207.755883</td>\n",
       "      <td>3767.07</td>\n",
       "      <td>6668.6675</td>\n",
       "      <td>7445.880</td>\n",
       "      <td>8307.8550</td>\n",
       "      <td>11288.49</td>\n",
       "    </tr>\n",
       "    <tr>\n",
       "      <td>4</td>\n",
       "      <td>1213.0</td>\n",
       "      <td>7481.946249</td>\n",
       "      <td>1213.659475</td>\n",
       "      <td>3701.28</td>\n",
       "      <td>6659.2200</td>\n",
       "      <td>7473.300</td>\n",
       "      <td>8280.3500</td>\n",
       "      <td>11531.30</td>\n",
       "    </tr>\n",
       "    <tr>\n",
       "      <td>5</td>\n",
       "      <td>710.0</td>\n",
       "      <td>7494.749775</td>\n",
       "      <td>1220.554515</td>\n",
       "      <td>3765.75</td>\n",
       "      <td>6683.9250</td>\n",
       "      <td>7501.075</td>\n",
       "      <td>8336.8050</td>\n",
       "      <td>10579.75</td>\n",
       "    </tr>\n",
       "    <tr>\n",
       "      <td>6</td>\n",
       "      <td>253.0</td>\n",
       "      <td>7507.911304</td>\n",
       "      <td>1194.375681</td>\n",
       "      <td>4401.23</td>\n",
       "      <td>6736.0900</td>\n",
       "      <td>7607.360</td>\n",
       "      <td>8349.3100</td>\n",
       "      <td>10136.40</td>\n",
       "    </tr>\n",
       "    <tr>\n",
       "      <td>7</td>\n",
       "      <td>68.0</td>\n",
       "      <td>7491.763382</td>\n",
       "      <td>1323.828211</td>\n",
       "      <td>4286.98</td>\n",
       "      <td>6645.5200</td>\n",
       "      <td>7292.060</td>\n",
       "      <td>8428.5575</td>\n",
       "      <td>10120.10</td>\n",
       "    </tr>\n",
       "    <tr>\n",
       "      <td>8</td>\n",
       "      <td>7.0</td>\n",
       "      <td>7081.695714</td>\n",
       "      <td>590.726099</td>\n",
       "      <td>6511.05</td>\n",
       "      <td>6686.4150</td>\n",
       "      <td>6920.240</td>\n",
       "      <td>7348.9750</td>\n",
       "      <td>8069.80</td>\n",
       "    </tr>\n",
       "    <tr>\n",
       "      <td>9</td>\n",
       "      <td>2.0</td>\n",
       "      <td>7637.735000</td>\n",
       "      <td>1744.821338</td>\n",
       "      <td>6403.96</td>\n",
       "      <td>7020.8475</td>\n",
       "      <td>7637.735</td>\n",
       "      <td>8254.6225</td>\n",
       "      <td>8871.51</td>\n",
       "    </tr>\n",
       "  </tbody>\n",
       "</table>\n",
       "</div>"
      ],
      "text/plain": [
       "               count         mean          std      min        25%       50%  \\\n",
       "householdpax                                                                   \n",
       "1              992.0  7449.119677  1189.618623  3772.02  6675.8150  7364.490   \n",
       "2             1251.0  7455.519880  1194.916970  2570.00  6650.5600  7462.680   \n",
       "3             1504.0  7477.271323  1207.755883  3767.07  6668.6675  7445.880   \n",
       "4             1213.0  7481.946249  1213.659475  3701.28  6659.2200  7473.300   \n",
       "5              710.0  7494.749775  1220.554515  3765.75  6683.9250  7501.075   \n",
       "6              253.0  7507.911304  1194.375681  4401.23  6736.0900  7607.360   \n",
       "7               68.0  7491.763382  1323.828211  4286.98  6645.5200  7292.060   \n",
       "8                7.0  7081.695714   590.726099  6511.05  6686.4150  6920.240   \n",
       "9                2.0  7637.735000  1744.821338  6403.96  7020.8475  7637.735   \n",
       "\n",
       "                    75%       max  \n",
       "householdpax                       \n",
       "1             8265.2000  11236.48  \n",
       "2             8283.7400  11509.60  \n",
       "3             8307.8550  11288.49  \n",
       "4             8280.3500  11531.30  \n",
       "5             8336.8050  10579.75  \n",
       "6             8349.3100  10136.40  \n",
       "7             8428.5575  10120.10  \n",
       "8             7348.9750   8069.80  \n",
       "9             8254.6225   8871.51  "
      ]
     },
     "execution_count": 6,
     "metadata": {},
     "output_type": "execute_result"
    }
   ],
   "source": [
    "nyconsum.groupby('householdpax').describe()['leisureavg']"
   ]
  },
  {
   "cell_type": "markdown",
   "metadata": {},
   "source": [
    "The household with 1 or 2 kids will spending more travelling both leisure or nationwide. But household of 2 people (most likely they are married but no kids) spend more than household of 3 people that includes 1 kid on leisure trip. This fact confirms the hypothesis that married couples in the new York consumers group prefer leisure trip better than long distance vacation. "
   ]
  },
  {
   "cell_type": "markdown",
   "metadata": {},
   "source": [
    "We examined the annual spending on leisure travel, a histogram can help visualize the spending distribution:"
   ]
  },
  {
   "cell_type": "code",
   "execution_count": 7,
   "metadata": {},
   "outputs": [
    {
     "data": {
      "text/plain": [
       "Text(0.5, 1.0, 'Histogram of leisureavg')"
      ]
     },
     "execution_count": 7,
     "metadata": {},
     "output_type": "execute_result"
    },
    {
     "data": {
      "image/png": "[encoded data removed]",
      "text/plain": [
       "<Figure size 432x288 with 1 Axes>"
      ]
     },
     "metadata": {
      "needs_background": "light"
     },
     "output_type": "display_data"
    }
   ],
   "source": [
    "%matplotlib inline\n",
    "from matplotlib import pyplot as plt\n",
    "plt.hist(nyconsum['leisureavg'],5,color=\"skyblue\",ec = 'black')\n",
    "plt.xlabel('leisureavg')\n",
    "plt.title('Histogram of leisureavg')"
   ]
  },
  {
   "cell_type": "markdown",
   "metadata": {},
   "source": [
    "We also tried to find relationships between geographic location and gross income to the leisure spending. The results for mean gross income per county and mean leisure travels spending per county are listed below by descending order:\n"
   ]
  },
  {
   "cell_type": "code",
   "execution_count": 8,
   "metadata": {},
   "outputs": [
    {
     "data": {
      "text/plain": [
       "county\n",
       "Westchester    202542.48515\n",
       "Fairfield      191869.37832\n",
       "Bergen         187061.47080\n",
       "Morris         181537.75586\n",
       "Hudson         178790.57408\n",
       "New York       177136.37092\n",
       "Nassau         176586.67408\n",
       "Kings          176520.22080\n",
       "Suffolk        175842.66726\n",
       "Queens         165360.41478\n",
       "Bronx          162137.82440\n",
       "Passaic        153414.83836\n",
       "Name: AGI, dtype: float64"
      ]
     },
     "execution_count": 8,
     "metadata": {},
     "output_type": "execute_result"
    }
   ],
   "source": [
    "nyconsum.groupby('county')['AGI'].mean().sort_values(ascending=False)"
   ]
  },
  {
   "cell_type": "code",
   "execution_count": 9,
   "metadata": {},
   "outputs": [
    {
     "data": {
      "text/plain": [
       "county\n",
       "Passaic        7538.15932\n",
       "Fairfield      7537.49430\n",
       "Nassau         7526.01608\n",
       "Suffolk        7505.84534\n",
       "Bergen         7496.66408\n",
       "Kings          7474.82102\n",
       "Queens         7463.39362\n",
       "Westchester    7453.86092\n",
       "Morris         7447.50262\n",
       "Hudson         7441.16172\n",
       "Bronx          7426.38236\n",
       "New York       7390.21844\n",
       "Name: leisureavg, dtype: float64"
      ]
     },
     "execution_count": 9,
     "metadata": {},
     "output_type": "execute_result"
    }
   ],
   "source": [
    "nyconsum.groupby('county')['leisureavg'].mean().sort_values(ascending=False)"
   ]
  },
  {
   "cell_type": "markdown",
   "metadata": {},
   "source": [
    "We can identify the top 5 high income counties are: Westchester, Fairfield, Bergen, Morris and Hudson. However, the top 5 leisure spending counties are: Passaic, Fairfield, Nassau, Suffolk and Bergen. Among all, worth mentioned that Passaic seems to have the least gross income household, but they spend the most on leisure trips. "
   ]
  },
  {
   "cell_type": "markdown",
   "metadata": {},
   "source": [
    "Further to exam the relationship between gross income and leisure travel spending, and we found there is none linear relationship between those two aspects. The scatter plot is used to visualize if any correlation relationship existed:"
   ]
  },
  {
   "cell_type": "code",
   "execution_count": 10,
   "metadata": {},
   "outputs": [
    {
     "data": {
      "text/plain": [
       "Text(0.5, 1.0, 'Scatter Plot of income to leisure spending')"
      ]
     },
     "execution_count": 10,
     "metadata": {},
     "output_type": "execute_result"
    },
    {
     "data": {
      "image/png": "[encoded data removed]",
      "text/plain": [
       "<Figure size 432x288 with 1 Axes>"
      ]
     },
     "metadata": {
      "needs_background": "light"
     },
     "output_type": "display_data"
    }
   ],
   "source": [
    "plt.scatter(nyconsum['AGI'],nyconsum['leisureavg'])\n",
    "plt.xlabel('Gross Income')\n",
    "plt.ylabel('Leisureavg')\n",
    "plt.title('Scatter Plot of income to leisure spending')"
   ]
  },
  {
   "cell_type": "markdown",
   "metadata": {},
   "source": [
    "### 3.2\tConsumer segmentation with K-Means"
   ]
  },
  {
   "cell_type": "markdown",
   "metadata": {},
   "source": [
    "In order to find the accurate cluster of audience to target marketing, we need to label all new york consumers to different clusters and make strategic marketing plans accordingly. There are many different clustering approaches. 3 main types of clustering include: Partitioned-based Clustering, Hierarchical Clustering, and Density-based Clustering. Here we use K-Means clustering on new York consumer dataset to reveal some insights for strategic marketing plans. "
   ]
  },
  {
   "cell_type": "markdown",
   "metadata": {},
   "source": [
    "### 3.21 K-Means preprocessing"
   ]
  },
  {
   "cell_type": "markdown",
   "metadata": {},
   "source": [
    "k-means algorithm isn't directly applicable to categorical variables because Euclidean distance function isn't really meaningful for discrete variables. We dropped “state” and “county” columns from the dataset. We also dropped the “householdID” as well. Although this column is numerical presentation but it’s categorical variable for all individual rows. Then we normalize the entire dataset to get the cluster dataset. \n",
    "In order to find the best cluster number for this dataset, we used the elbow method to find out the most efficient cluster number as below:\n"
   ]
  },
  {
   "cell_type": "code",
   "execution_count": 16,
   "metadata": {},
   "outputs": [
    {
     "data": {
      "text/html": [
       "<div>\n",
       "<style scoped>\n",
       "    .dataframe tbody tr th:only-of-type {\n",
       "        vertical-align: middle;\n",
       "    }\n",
       "\n",
       "    .dataframe tbody tr th {\n",
       "        vertical-align: top;\n",
       "    }\n",
       "\n",
       "    .dataframe thead th {\n",
       "        text-align: right;\n",
       "    }\n",
       "</style>\n",
       "<table border=\"1\" class=\"dataframe\">\n",
       "  <thead>\n",
       "    <tr style=\"text-align: right;\">\n",
       "      <th></th>\n",
       "      <th>householdpax</th>\n",
       "      <th>AGI</th>\n",
       "      <th>conusleisure</th>\n",
       "      <th>children</th>\n",
       "      <th>leisureavg</th>\n",
       "    </tr>\n",
       "  </thead>\n",
       "  <tbody>\n",
       "    <tr>\n",
       "      <td>0</td>\n",
       "      <td>4</td>\n",
       "      <td>179883.69</td>\n",
       "      <td>7115.75</td>\n",
       "      <td>1</td>\n",
       "      <td>9193.40</td>\n",
       "    </tr>\n",
       "    <tr>\n",
       "      <td>1</td>\n",
       "      <td>2</td>\n",
       "      <td>169985.69</td>\n",
       "      <td>4967.27</td>\n",
       "      <td>1</td>\n",
       "      <td>7914.61</td>\n",
       "    </tr>\n",
       "    <tr>\n",
       "      <td>2</td>\n",
       "      <td>3</td>\n",
       "      <td>174330.05</td>\n",
       "      <td>3088.74</td>\n",
       "      <td>2</td>\n",
       "      <td>7885.29</td>\n",
       "    </tr>\n",
       "    <tr>\n",
       "      <td>3</td>\n",
       "      <td>5</td>\n",
       "      <td>192924.29</td>\n",
       "      <td>4841.22</td>\n",
       "      <td>2</td>\n",
       "      <td>5472.83</td>\n",
       "    </tr>\n",
       "    <tr>\n",
       "      <td>4</td>\n",
       "      <td>2</td>\n",
       "      <td>153443.55</td>\n",
       "      <td>5745.79</td>\n",
       "      <td>1</td>\n",
       "      <td>7859.36</td>\n",
       "    </tr>\n",
       "  </tbody>\n",
       "</table>\n",
       "</div>"
      ],
      "text/plain": [
       "   householdpax        AGI  conusleisure  children  leisureavg\n",
       "0             4  179883.69       7115.75         1     9193.40\n",
       "1             2  169985.69       4967.27         1     7914.61\n",
       "2             3  174330.05       3088.74         2     7885.29\n",
       "3             5  192924.29       4841.22         2     5472.83\n",
       "4             2  153443.55       5745.79         1     7859.36"
      ]
     },
     "execution_count": 16,
     "metadata": {},
     "output_type": "execute_result"
    }
   ],
   "source": [
    "df = nyconsum.drop(['state','county','householdID'],axis=1)\n",
    "df.head()"
   ]
  },
  {
   "cell_type": "code",
   "execution_count": 19,
   "metadata": {},
   "outputs": [
    {
     "data": {
      "text/plain": [
       "array([[ 0.62920197, -0.01849355,  1.65941842, -0.02313513,  1.42893269],\n",
       "       [-0.73763794, -0.34949596,  0.10916961, -0.02313513,  0.36732178],\n",
       "       [-0.05421798, -0.20421473, -1.24629515,  1.26214963,  0.34298125],\n",
       "       ...,\n",
       "       [ 1.31262192,  1.24605639, -0.24479695,  1.26214963,  0.68733506],\n",
       "       [ 0.62920197, -0.67810631,  0.73443403, -1.30841988,  1.44013996],\n",
       "       [-0.73763794,  2.259714  , -0.79999828, -0.02313513,  0.27492405]])"
      ]
     },
     "execution_count": 19,
     "metadata": {},
     "output_type": "execute_result"
    }
   ],
   "source": [
    "from sklearn.preprocessing import StandardScaler\n",
    "from sklearn.cluster import KMeans \n",
    "X = df.values\n",
    "X = np.nan_to_num(X)\n",
    "Clus_dataSet = StandardScaler().fit_transform(X)\n",
    "Clus_dataSet"
   ]
  },
  {
   "cell_type": "code",
   "execution_count": 20,
   "metadata": {},
   "outputs": [],
   "source": [
    "sse2 = {}\n",
    "for i in range(1, 21):\n",
    "    kmeans = KMeans(n_clusters=i, random_state=688)\n",
    "    kmeans.fit(Clus_dataSet)\n",
    "    sse2[i] = kmeans.inertia_"
   ]
  },
  {
   "cell_type": "code",
   "execution_count": 21,
   "metadata": {},
   "outputs": [
    {
     "data": {
      "text/plain": [
       "<matplotlib.axes._subplots.AxesSubplot at 0x1a1b78ad90>"
      ]
     },
     "execution_count": 21,
     "metadata": {},
     "output_type": "execute_result"
    },
    {
     "data": {
      "image/png": "[encoded data removed]",
      "text/plain": [
       "<Figure size 432x288 with 1 Axes>"
      ]
     },
     "metadata": {
      "needs_background": "light"
     },
     "output_type": "display_data"
    }
   ],
   "source": [
    "plt.title('The Elbow Method')\n",
    "plt.xlabel('i')\n",
    "plt.ylabel('SSE2')\n",
    "sns.pointplot(x=list(sse2.keys()), y=list(sse2.values()))"
   ]
  },
  {
   "cell_type": "markdown",
   "metadata": {},
   "source": [
    "Based on above elbow line that we generated from the dataset, we decided to use 4 cluster to segment our New York consumer dataset. \n",
    "\n"
   ]
  },
  {
   "cell_type": "markdown",
   "metadata": {},
   "source": [
    "### 3.22 K-Means Modeling"
   ]
  },
  {
   "cell_type": "markdown",
   "metadata": {},
   "source": [
    "Before clustering, we will assume that the consumer group will have different attributes like gross income, family members, children etc. We feed the dataset to K-means clustering and get the cluster labels for 4 clusters as :0,1,2,3,4. Then we applied the label to the dataset and added another column “Clus_km”."
   ]
  },
  {
   "cell_type": "code",
   "execution_count": 22,
   "metadata": {},
   "outputs": [
    {
     "name": "stdout",
     "output_type": "stream",
     "text": [
      "[0 1 1 ... 3 1 3]\n"
     ]
    }
   ],
   "source": [
    "from sklearn.cluster import KMeans \n",
    "clusterNum = 4\n",
    "k_means = KMeans(init = \"k-means++\", n_clusters = clusterNum, n_init = 12)\n",
    "k_means.fit(X)\n",
    "labels = k_means.labels_\n",
    "print(labels)"
   ]
  },
  {
   "cell_type": "code",
   "execution_count": 23,
   "metadata": {},
   "outputs": [
    {
     "data": {
      "text/html": [
       "<div>\n",
       "<style scoped>\n",
       "    .dataframe tbody tr th:only-of-type {\n",
       "        vertical-align: middle;\n",
       "    }\n",
       "\n",
       "    .dataframe tbody tr th {\n",
       "        vertical-align: top;\n",
       "    }\n",
       "\n",
       "    .dataframe thead th {\n",
       "        text-align: right;\n",
       "    }\n",
       "</style>\n",
       "<table border=\"1\" class=\"dataframe\">\n",
       "  <thead>\n",
       "    <tr style=\"text-align: right;\">\n",
       "      <th></th>\n",
       "      <th>householdpax</th>\n",
       "      <th>AGI</th>\n",
       "      <th>conusleisure</th>\n",
       "      <th>children</th>\n",
       "      <th>leisureavg</th>\n",
       "      <th>Clus_km</th>\n",
       "    </tr>\n",
       "  </thead>\n",
       "  <tbody>\n",
       "    <tr>\n",
       "      <td>0</td>\n",
       "      <td>4</td>\n",
       "      <td>179883.69</td>\n",
       "      <td>7115.75</td>\n",
       "      <td>1</td>\n",
       "      <td>9193.40</td>\n",
       "      <td>0</td>\n",
       "    </tr>\n",
       "    <tr>\n",
       "      <td>1</td>\n",
       "      <td>2</td>\n",
       "      <td>169985.69</td>\n",
       "      <td>4967.27</td>\n",
       "      <td>1</td>\n",
       "      <td>7914.61</td>\n",
       "      <td>1</td>\n",
       "    </tr>\n",
       "    <tr>\n",
       "      <td>2</td>\n",
       "      <td>3</td>\n",
       "      <td>174330.05</td>\n",
       "      <td>3088.74</td>\n",
       "      <td>2</td>\n",
       "      <td>7885.29</td>\n",
       "      <td>1</td>\n",
       "    </tr>\n",
       "    <tr>\n",
       "      <td>3</td>\n",
       "      <td>5</td>\n",
       "      <td>192924.29</td>\n",
       "      <td>4841.22</td>\n",
       "      <td>2</td>\n",
       "      <td>5472.83</td>\n",
       "      <td>0</td>\n",
       "    </tr>\n",
       "    <tr>\n",
       "      <td>4</td>\n",
       "      <td>2</td>\n",
       "      <td>153443.55</td>\n",
       "      <td>5745.79</td>\n",
       "      <td>1</td>\n",
       "      <td>7859.36</td>\n",
       "      <td>1</td>\n",
       "    </tr>\n",
       "  </tbody>\n",
       "</table>\n",
       "</div>"
      ],
      "text/plain": [
       "   householdpax        AGI  conusleisure  children  leisureavg  Clus_km\n",
       "0             4  179883.69       7115.75         1     9193.40        0\n",
       "1             2  169985.69       4967.27         1     7914.61        1\n",
       "2             3  174330.05       3088.74         2     7885.29        1\n",
       "3             5  192924.29       4841.22         2     5472.83        0\n",
       "4             2  153443.55       5745.79         1     7859.36        1"
      ]
     },
     "execution_count": 23,
     "metadata": {},
     "output_type": "execute_result"
    }
   ],
   "source": [
    "df[\"Clus_km\"] = labels\n",
    "df.head(5)"
   ]
  },
  {
   "cell_type": "markdown",
   "metadata": {},
   "source": [
    "### 3.23 K- means Model Insights"
   ]
  },
  {
   "cell_type": "markdown",
   "metadata": {},
   "source": [
    "After we applied the label to the dataset, we group the dataset by the label to exam each variable’s mean to get some insights for each cluster of consumers."
   ]
  },
  {
   "cell_type": "code",
   "execution_count": 24,
   "metadata": {},
   "outputs": [
    {
     "data": {
      "text/html": [
       "<div>\n",
       "<style scoped>\n",
       "    .dataframe tbody tr th:only-of-type {\n",
       "        vertical-align: middle;\n",
       "    }\n",
       "\n",
       "    .dataframe tbody tr th {\n",
       "        vertical-align: top;\n",
       "    }\n",
       "\n",
       "    .dataframe thead th {\n",
       "        text-align: right;\n",
       "    }\n",
       "</style>\n",
       "<table border=\"1\" class=\"dataframe\">\n",
       "  <thead>\n",
       "    <tr style=\"text-align: right;\">\n",
       "      <th></th>\n",
       "      <th>householdpax</th>\n",
       "      <th>AGI</th>\n",
       "      <th>conusleisure</th>\n",
       "      <th>children</th>\n",
       "      <th>leisureavg</th>\n",
       "    </tr>\n",
       "    <tr>\n",
       "      <th>Clus_km</th>\n",
       "      <th></th>\n",
       "      <th></th>\n",
       "      <th></th>\n",
       "      <th></th>\n",
       "      <th></th>\n",
       "    </tr>\n",
       "  </thead>\n",
       "  <tbody>\n",
       "    <tr>\n",
       "      <td>0</td>\n",
       "      <td>3.077647</td>\n",
       "      <td>192769.136325</td>\n",
       "      <td>4818.749238</td>\n",
       "      <td>1.018824</td>\n",
       "      <td>7461.307614</td>\n",
       "    </tr>\n",
       "    <tr>\n",
       "      <td>1</td>\n",
       "      <td>3.075203</td>\n",
       "      <td>165309.626082</td>\n",
       "      <td>4846.993780</td>\n",
       "      <td>1.007622</td>\n",
       "      <td>7484.638501</td>\n",
       "    </tr>\n",
       "    <tr>\n",
       "      <td>2</td>\n",
       "      <td>3.103371</td>\n",
       "      <td>133585.152494</td>\n",
       "      <td>4774.443775</td>\n",
       "      <td>1.038202</td>\n",
       "      <td>7432.588393</td>\n",
       "    </tr>\n",
       "    <tr>\n",
       "      <td>3</td>\n",
       "      <td>3.069813</td>\n",
       "      <td>224941.673874</td>\n",
       "      <td>4786.484140</td>\n",
       "      <td>1.018682</td>\n",
       "      <td>7505.220442</td>\n",
       "    </tr>\n",
       "  </tbody>\n",
       "</table>\n",
       "</div>"
      ],
      "text/plain": [
       "         householdpax            AGI  conusleisure  children   leisureavg\n",
       "Clus_km                                                                  \n",
       "0            3.077647  192769.136325   4818.749238  1.018824  7461.307614\n",
       "1            3.075203  165309.626082   4846.993780  1.007622  7484.638501\n",
       "2            3.103371  133585.152494   4774.443775  1.038202  7432.588393\n",
       "3            3.069813  224941.673874   4786.484140  1.018682  7505.220442"
      ]
     },
     "execution_count": 24,
     "metadata": {},
     "output_type": "execute_result"
    }
   ],
   "source": [
    "df.groupby('Clus_km').mean()"
   ]
  },
  {
   "cell_type": "markdown",
   "metadata": {},
   "source": [
    "Cluster_km 0: This group of the consumer has the highest gross income and smallest household numbers. They have the highest leisure trip spending amount but not the nationwide travel spending. Young elite couples, white collars might represent this cluster well. They are busy at work and maybe they cannot take long time vacation to travel \n",
    "\n",
    "\n",
    "Cluster_km 1: This group of consumer has median gross income and least children number in the family. But they spend more on both leisure trip and long-distance travels. A family with love, middle class, maybe parents are teachers. So we label them as “mid love travel”\n",
    "\n",
    "\n",
    "Cluster_km 2: This group of consumer has higher than median income but they spend more on long distance travels, \n",
    "\n",
    "\n",
    "Cluster_km 3: This group of consumer has lowest gross income and largest family members and also children numbers. Although they did not spend as much money on both types of travelling as the other groups, they still have the demand for leisure trips. Their limitations are family members, low incomes. So we label this group as “low income big family”\n"
   ]
  },
  {
   "cell_type": "code",
   "execution_count": 25,
   "metadata": {},
   "outputs": [],
   "source": [
    "df.Clus_km.replace([0,1,2,3],[ 'high income frequent', 'mid love travel','mid income national','low income big family'], inplace=True)"
   ]
  },
  {
   "cell_type": "markdown",
   "metadata": {},
   "source": [
    "After applying the labels to the dataset, we have the below conclusion table:"
   ]
  },
  {
   "cell_type": "code",
   "execution_count": 26,
   "metadata": {},
   "outputs": [
    {
     "data": {
      "text/html": [
       "<div>\n",
       "<style scoped>\n",
       "    .dataframe tbody tr th:only-of-type {\n",
       "        vertical-align: middle;\n",
       "    }\n",
       "\n",
       "    .dataframe tbody tr th {\n",
       "        vertical-align: top;\n",
       "    }\n",
       "\n",
       "    .dataframe thead th {\n",
       "        text-align: right;\n",
       "    }\n",
       "</style>\n",
       "<table border=\"1\" class=\"dataframe\">\n",
       "  <thead>\n",
       "    <tr style=\"text-align: right;\">\n",
       "      <th></th>\n",
       "      <th>householdpax</th>\n",
       "      <th>AGI</th>\n",
       "      <th>conusleisure</th>\n",
       "      <th>children</th>\n",
       "      <th>leisureavg</th>\n",
       "    </tr>\n",
       "    <tr>\n",
       "      <th>Clus_km</th>\n",
       "      <th></th>\n",
       "      <th></th>\n",
       "      <th></th>\n",
       "      <th></th>\n",
       "      <th></th>\n",
       "    </tr>\n",
       "  </thead>\n",
       "  <tbody>\n",
       "    <tr>\n",
       "      <td>high income frequent</td>\n",
       "      <td>3.077647</td>\n",
       "      <td>192769.136325</td>\n",
       "      <td>4818.749238</td>\n",
       "      <td>1.018824</td>\n",
       "      <td>7461.307614</td>\n",
       "    </tr>\n",
       "    <tr>\n",
       "      <td>low income big family</td>\n",
       "      <td>3.069813</td>\n",
       "      <td>224941.673874</td>\n",
       "      <td>4786.484140</td>\n",
       "      <td>1.018682</td>\n",
       "      <td>7505.220442</td>\n",
       "    </tr>\n",
       "    <tr>\n",
       "      <td>mid income national</td>\n",
       "      <td>3.103371</td>\n",
       "      <td>133585.152494</td>\n",
       "      <td>4774.443775</td>\n",
       "      <td>1.038202</td>\n",
       "      <td>7432.588393</td>\n",
       "    </tr>\n",
       "    <tr>\n",
       "      <td>mid love travel</td>\n",
       "      <td>3.075203</td>\n",
       "      <td>165309.626082</td>\n",
       "      <td>4846.993780</td>\n",
       "      <td>1.007622</td>\n",
       "      <td>7484.638501</td>\n",
       "    </tr>\n",
       "  </tbody>\n",
       "</table>\n",
       "</div>"
      ],
      "text/plain": [
       "                       householdpax            AGI  conusleisure  children  \\\n",
       "Clus_km                                                                      \n",
       "high income frequent       3.077647  192769.136325   4818.749238  1.018824   \n",
       "low income big family      3.069813  224941.673874   4786.484140  1.018682   \n",
       "mid income national        3.103371  133585.152494   4774.443775  1.038202   \n",
       "mid love travel            3.075203  165309.626082   4846.993780  1.007622   \n",
       "\n",
       "                        leisureavg  \n",
       "Clus_km                             \n",
       "high income frequent   7461.307614  \n",
       "low income big family  7505.220442  \n",
       "mid income national    7432.588393  \n",
       "mid love travel        7484.638501  "
      ]
     },
     "execution_count": 26,
     "metadata": {},
     "output_type": "execute_result"
    }
   ],
   "source": [
    "df.groupby('Clus_km').mean()"
   ]
  },
  {
   "cell_type": "markdown",
   "metadata": {},
   "source": [
    "It will be better to visualize those clusters of consumers distribution based on their attributes. So we feed the dataset to the 3D model as following:"
   ]
  },
  {
   "cell_type": "code",
   "execution_count": 27,
   "metadata": {},
   "outputs": [
    {
     "data": {
      "text/plain": [
       "<mpl_toolkits.mplot3d.art3d.Path3DCollection at 0x1a1bda1250>"
      ]
     },
     "execution_count": 27,
     "metadata": {},
     "output_type": "execute_result"
    },
    {
     "data": {
      "image/png": "[encoded data removed]",
      "text/plain": [
       "<Figure size 576x432 with 1 Axes>"
      ]
     },
     "metadata": {
      "needs_background": "light"
     },
     "output_type": "display_data"
    }
   ],
   "source": [
    "from mpl_toolkits.mplot3d import Axes3D \n",
    "fig = plt.figure(1, figsize=(8, 6))\n",
    "plt.clf()\n",
    "ax = Axes3D(fig, rect=[0, 0, .95, 1], elev=48, azim=134)\n",
    "\n",
    "plt.cla()\n",
    "\n",
    "ax.set_xlabel('AGI')\n",
    "ax.set_ylabel('householdpax')\n",
    "ax.set_zlabel('leisureavg')\n",
    "\n",
    "ax.scatter(X[:, 1], X[:, 0], X[:, 4], c= labels.astype(np.float))"
   ]
  },
  {
   "cell_type": "markdown",
   "metadata": {},
   "source": [
    "From the above 3D model, we have gross income as the X-axis, household member number as the Y-axis and leisure trip spending as the Z-axis. It is clear to see all four clusters covering all ranges of new York consumers from the dataset. "
   ]
  },
  {
   "cell_type": "markdown",
   "metadata": {},
   "source": [
    "### 4.\tPredictive Modeling"
   ]
  },
  {
   "cell_type": "markdown",
   "metadata": {},
   "source": [
    "There are two types of the predictive modeling: Regression and classification. In this analysis, we built regression models to predict the total spending by new York consumers to our park for each of next five years and classification model to classify households as season passes renewer or non-season pass renewer. The information generated from those models will eventually help marketing department to budget their spending on the campaigns. "
   ]
  },
  {
   "cell_type": "markdown",
   "metadata": {},
   "source": [
    "### 4.1 Regression Model"
   ]
  },
  {
   "cell_type": "markdown",
   "metadata": {},
   "source": [
    "Under regression models, we have linear regression and nonlinear regression. Before deciding which regression model we are going to build, first we plot the data points from the database “ny_to_ne”. Scatter plot is a great data visualization tool here to exam the data:"
   ]
  },
  {
   "cell_type": "code",
   "execution_count": 28,
   "metadata": {},
   "outputs": [
    {
     "data": {
      "text/html": [
       "<div>\n",
       "<style scoped>\n",
       "    .dataframe tbody tr th:only-of-type {\n",
       "        vertical-align: middle;\n",
       "    }\n",
       "\n",
       "    .dataframe tbody tr th {\n",
       "        vertical-align: top;\n",
       "    }\n",
       "\n",
       "    .dataframe thead th {\n",
       "        text-align: right;\n",
       "    }\n",
       "</style>\n",
       "<table border=\"1\" class=\"dataframe\">\n",
       "  <thead>\n",
       "    <tr style=\"text-align: right;\">\n",
       "      <th></th>\n",
       "      <th>year</th>\n",
       "      <th>summerspend</th>\n",
       "    </tr>\n",
       "  </thead>\n",
       "  <tbody>\n",
       "    <tr>\n",
       "      <td>0</td>\n",
       "      <td>1959</td>\n",
       "      <td>2.262733e+07</td>\n",
       "    </tr>\n",
       "    <tr>\n",
       "      <td>1</td>\n",
       "      <td>1960</td>\n",
       "      <td>3.050980e+07</td>\n",
       "    </tr>\n",
       "    <tr>\n",
       "      <td>2</td>\n",
       "      <td>1961</td>\n",
       "      <td>2.440828e+07</td>\n",
       "    </tr>\n",
       "    <tr>\n",
       "      <td>3</td>\n",
       "      <td>1962</td>\n",
       "      <td>2.377221e+07</td>\n",
       "    </tr>\n",
       "    <tr>\n",
       "      <td>4</td>\n",
       "      <td>1963</td>\n",
       "      <td>2.357277e+07</td>\n",
       "    </tr>\n",
       "  </tbody>\n",
       "</table>\n",
       "</div>"
      ],
      "text/plain": [
       "   year   summerspend\n",
       "0  1959  2.262733e+07\n",
       "1  1960  3.050980e+07\n",
       "2  1961  2.440828e+07\n",
       "3  1962  2.377221e+07\n",
       "4  1963  2.357277e+07"
      ]
     },
     "execution_count": 28,
     "metadata": {},
     "output_type": "execute_result"
    }
   ],
   "source": [
    "nyc_to_ne = pd.read_csv('nyc_to_ne.csv')\n",
    "nyc_to_ne.head()"
   ]
  },
  {
   "cell_type": "code",
   "execution_count": 29,
   "metadata": {},
   "outputs": [
    {
     "data": {
      "image/png": "[encoded data removed]",
      "text/plain": [
       "<Figure size 576x360 with 1 Axes>"
      ]
     },
     "metadata": {
      "needs_background": "light"
     },
     "output_type": "display_data"
    }
   ],
   "source": [
    "plt.figure(figsize=(8,5))\n",
    "x_data, y_data = (nyc_to_ne[\"year\"], nyc_to_ne[\"summerspend\"])\n",
    "plt.plot(x_data, y_data, 'ro')\n",
    "plt.ylabel('summerspend')\n",
    "plt.xlabel('year')\n",
    "plt.show()"
   ]
  },
  {
   "cell_type": "markdown",
   "metadata": {},
   "source": [
    "From the above scatter plot, we learned that linear regression is not suitable for this database. After carefully examine the data point trend, from all different types of nonlinear regressions: Quadratic, Exponential, logarithmic and sigmoidal/logistic. We decided to persuade with sigmoidal/logistic regression model. \n",
    "We normalized both year and summer spending variables for a new dataset. Then we use curve fit to fit our sigmoid function to that normalized dataset. Optimal values for the parameters so that the sum of the squared residuals of sigmoid(xdata, *popt) - ydata is minimized. Then we get the parameter for beta_1 as 0.00092502 and beta_2 as -1449.14472.\n"
   ]
  },
  {
   "cell_type": "code",
   "execution_count": 30,
   "metadata": {},
   "outputs": [],
   "source": [
    "def sigmoid(x, Beta_1, Beta_2):\n",
    "     y = 1 / (1 + np.exp(-Beta_1*(x-Beta_2)))\n",
    "     return y"
   ]
  },
  {
   "cell_type": "code",
   "execution_count": 31,
   "metadata": {},
   "outputs": [],
   "source": [
    "xdata =x_data/max(x_data)\n",
    "ydata =y_data/max(y_data)"
   ]
  },
  {
   "cell_type": "code",
   "execution_count": 32,
   "metadata": {},
   "outputs": [
    {
     "data": {
      "text/plain": [
       "(0.0009250248275286691, -1449.1447196473946)"
      ]
     },
     "execution_count": 32,
     "metadata": {},
     "output_type": "execute_result"
    }
   ],
   "source": [
    "from scipy.optimize import curve_fit\n",
    "popt, pcov = curve_fit(sigmoid, xdata, ydata,maxfev=1000000)\n",
    "popt[0],popt[1]"
   ]
  },
  {
   "cell_type": "markdown",
   "metadata": {},
   "source": [
    "In order to visualize the sigmoid regression model that we built to the original dataset. A scatter plot with trend line has been built as below:"
   ]
  },
  {
   "cell_type": "code",
   "execution_count": 33,
   "metadata": {},
   "outputs": [
    {
     "data": {
      "image/png": "[encoded data removed]",
      "text/plain": [
       "<Figure size 576x360 with 1 Axes>"
      ]
     },
     "metadata": {
      "needs_background": "light"
     },
     "output_type": "display_data"
    }
   ],
   "source": [
    "x = np.linspace(1959, 2019, 61)\n",
    "x = x/max(x)\n",
    "plt.figure(figsize=(8,5))\n",
    "y = sigmoid(x, *popt)\n",
    "plt.plot(xdata, ydata, 'ro', label='data')\n",
    "plt.plot(x,y, linewidth=3.0, label='fit')\n",
    "plt.legend(loc='best')\n",
    "plt.ylabel('summerspending')\n",
    "plt.xlabel('Year')\n",
    "plt.show()"
   ]
  },
  {
   "cell_type": "markdown",
   "metadata": {},
   "source": [
    "Then we use this sigmoid regression model to predict the next five years summer spending amount as below"
   ]
  },
  {
   "cell_type": "code",
   "execution_count": 34,
   "metadata": {},
   "outputs": [
    {
     "data": {
      "text/html": [
       "<div>\n",
       "<style scoped>\n",
       "    .dataframe tbody tr th:only-of-type {\n",
       "        vertical-align: middle;\n",
       "    }\n",
       "\n",
       "    .dataframe tbody tr th {\n",
       "        vertical-align: top;\n",
       "    }\n",
       "\n",
       "    .dataframe thead th {\n",
       "        text-align: right;\n",
       "    }\n",
       "</style>\n",
       "<table border=\"1\" class=\"dataframe\">\n",
       "  <thead>\n",
       "    <tr style=\"text-align: right;\">\n",
       "      <th></th>\n",
       "      <th>Year</th>\n",
       "      <th>summerspending</th>\n",
       "    </tr>\n",
       "  </thead>\n",
       "  <tbody>\n",
       "    <tr>\n",
       "      <td>0</td>\n",
       "      <td>2020.00</td>\n",
       "      <td>2.418582e+07</td>\n",
       "    </tr>\n",
       "    <tr>\n",
       "      <td>1</td>\n",
       "      <td>2021.25</td>\n",
       "      <td>2.418582e+07</td>\n",
       "    </tr>\n",
       "    <tr>\n",
       "      <td>2</td>\n",
       "      <td>2022.50</td>\n",
       "      <td>2.418582e+07</td>\n",
       "    </tr>\n",
       "    <tr>\n",
       "      <td>3</td>\n",
       "      <td>2023.75</td>\n",
       "      <td>2.418583e+07</td>\n",
       "    </tr>\n",
       "    <tr>\n",
       "      <td>4</td>\n",
       "      <td>2025.00</td>\n",
       "      <td>2.418583e+07</td>\n",
       "    </tr>\n",
       "  </tbody>\n",
       "</table>\n",
       "</div>"
      ],
      "text/plain": [
       "      Year  summerspending\n",
       "0  2020.00    2.418582e+07\n",
       "1  2021.25    2.418582e+07\n",
       "2  2022.50    2.418582e+07\n",
       "3  2023.75    2.418583e+07\n",
       "4  2025.00    2.418583e+07"
      ]
     },
     "execution_count": 34,
     "metadata": {},
     "output_type": "execute_result"
    }
   ],
   "source": [
    "pred_year = np.linspace(2020, 2025, 5)\n",
    "pred_year_norm =pred_year / max(pred_year)\n",
    "pred_spend = sigmoid(pred_year_norm , *popt) * max(y_data)\n",
    "pred ={'Year':pred_year,'summerspending':pred_spend}\n",
    "pred = pd.DataFrame(pred)\n",
    "pred"
   ]
  },
  {
   "cell_type": "markdown",
   "metadata": {},
   "source": [
    "This result might not be the most accurate amount, but this is very close to the distribution of the datapoint based on historical data. \n",
    "\n"
   ]
  },
  {
   "cell_type": "markdown",
   "metadata": {},
   "source": [
    "### 4.2 Classification Model"
   ]
  },
  {
   "cell_type": "markdown",
   "metadata": {},
   "source": [
    "The classification model was built based on the historical existing customer log. The goal of this classification model is to predict if an existing member will renew his or her membership or not. Here I built all 4 popular classification models: KNN, decision tree, logistic regression and SVM. In the end, I compared the classification report and scores to pick the most accurate model for future usage.\n",
    "Before modeling, first I cleaned the datasheet. Then I selected and extracted the attributes and dependent result that I wanted o built into the classification model. Then I converted the categorical features to numerical values. In the end I normalized the input dataset and finished the data preprocessing.\n",
    "\n"
   ]
  },
  {
   "cell_type": "code",
   "execution_count": 2,
   "metadata": {},
   "outputs": [
    {
     "data": {
      "text/html": [
       "<div>\n",
       "<style scoped>\n",
       "    .dataframe tbody tr th:only-of-type {\n",
       "        vertical-align: middle;\n",
       "    }\n",
       "\n",
       "    .dataframe tbody tr th {\n",
       "        vertical-align: top;\n",
       "    }\n",
       "\n",
       "    .dataframe thead th {\n",
       "        text-align: right;\n",
       "    }\n",
       "</style>\n",
       "<table border=\"1\" class=\"dataframe\">\n",
       "  <thead>\n",
       "    <tr style=\"text-align: right;\">\n",
       "      <th></th>\n",
       "      <th>householdID</th>\n",
       "      <th>visits</th>\n",
       "      <th>avgrides_perperson</th>\n",
       "      <th>avgmerch_perperson</th>\n",
       "      <th>avggoldzone_perperson</th>\n",
       "      <th>avgfood_perperson</th>\n",
       "      <th>goldzone_playersclub</th>\n",
       "      <th>own_car</th>\n",
       "      <th>homestate</th>\n",
       "      <th>FB_Like</th>\n",
       "      <th>renew</th>\n",
       "    </tr>\n",
       "  </thead>\n",
       "  <tbody>\n",
       "    <tr>\n",
       "      <td>0</td>\n",
       "      <td>44</td>\n",
       "      <td>20</td>\n",
       "      <td>9.8</td>\n",
       "      <td>32.4</td>\n",
       "      <td>27.2</td>\n",
       "      <td>70.7</td>\n",
       "      <td>0</td>\n",
       "      <td>1</td>\n",
       "      <td>CT</td>\n",
       "      <td>1</td>\n",
       "      <td>1</td>\n",
       "    </tr>\n",
       "    <tr>\n",
       "      <td>1</td>\n",
       "      <td>57</td>\n",
       "      <td>20</td>\n",
       "      <td>11.7</td>\n",
       "      <td>71.8</td>\n",
       "      <td>40.8</td>\n",
       "      <td>1.6</td>\n",
       "      <td>0</td>\n",
       "      <td>1</td>\n",
       "      <td>CT</td>\n",
       "      <td>1</td>\n",
       "      <td>1</td>\n",
       "    </tr>\n",
       "    <tr>\n",
       "      <td>2</td>\n",
       "      <td>63</td>\n",
       "      <td>20</td>\n",
       "      <td>9.8</td>\n",
       "      <td>27.4</td>\n",
       "      <td>25.7</td>\n",
       "      <td>74.9</td>\n",
       "      <td>0</td>\n",
       "      <td>1</td>\n",
       "      <td>CT</td>\n",
       "      <td>1</td>\n",
       "      <td>1</td>\n",
       "    </tr>\n",
       "    <tr>\n",
       "      <td>3</td>\n",
       "      <td>159</td>\n",
       "      <td>17</td>\n",
       "      <td>2.2</td>\n",
       "      <td>1.5</td>\n",
       "      <td>91.1</td>\n",
       "      <td>28.9</td>\n",
       "      <td>1</td>\n",
       "      <td>1</td>\n",
       "      <td>CT</td>\n",
       "      <td>0</td>\n",
       "      <td>1</td>\n",
       "    </tr>\n",
       "    <tr>\n",
       "      <td>4</td>\n",
       "      <td>162</td>\n",
       "      <td>19</td>\n",
       "      <td>3.4</td>\n",
       "      <td>5.0</td>\n",
       "      <td>12.0</td>\n",
       "      <td>9.2</td>\n",
       "      <td>0</td>\n",
       "      <td>1</td>\n",
       "      <td>CT</td>\n",
       "      <td>0</td>\n",
       "      <td>1</td>\n",
       "    </tr>\n",
       "    <tr>\n",
       "      <td>5</td>\n",
       "      <td>165</td>\n",
       "      <td>19</td>\n",
       "      <td>2.2</td>\n",
       "      <td>37.5</td>\n",
       "      <td>18.4</td>\n",
       "      <td>76.3</td>\n",
       "      <td>1</td>\n",
       "      <td>1</td>\n",
       "      <td>CT</td>\n",
       "      <td>1</td>\n",
       "      <td>1</td>\n",
       "    </tr>\n",
       "    <tr>\n",
       "      <td>6</td>\n",
       "      <td>186</td>\n",
       "      <td>20</td>\n",
       "      <td>10.8</td>\n",
       "      <td>88.0</td>\n",
       "      <td>51.9</td>\n",
       "      <td>47.6</td>\n",
       "      <td>0</td>\n",
       "      <td>1</td>\n",
       "      <td>CT</td>\n",
       "      <td>1</td>\n",
       "      <td>1</td>\n",
       "    </tr>\n",
       "    <tr>\n",
       "      <td>7</td>\n",
       "      <td>199</td>\n",
       "      <td>20</td>\n",
       "      <td>8.3</td>\n",
       "      <td>23.8</td>\n",
       "      <td>90.1</td>\n",
       "      <td>50.0</td>\n",
       "      <td>0</td>\n",
       "      <td>1</td>\n",
       "      <td>CT</td>\n",
       "      <td>0</td>\n",
       "      <td>1</td>\n",
       "    </tr>\n",
       "    <tr>\n",
       "      <td>8</td>\n",
       "      <td>235</td>\n",
       "      <td>18</td>\n",
       "      <td>8.9</td>\n",
       "      <td>27.9</td>\n",
       "      <td>46.6</td>\n",
       "      <td>64.0</td>\n",
       "      <td>0</td>\n",
       "      <td>1</td>\n",
       "      <td>CT</td>\n",
       "      <td>0</td>\n",
       "      <td>1</td>\n",
       "    </tr>\n",
       "    <tr>\n",
       "      <td>9</td>\n",
       "      <td>249</td>\n",
       "      <td>18</td>\n",
       "      <td>11.9</td>\n",
       "      <td>8.8</td>\n",
       "      <td>170.2</td>\n",
       "      <td>11.6</td>\n",
       "      <td>0</td>\n",
       "      <td>1</td>\n",
       "      <td>CT</td>\n",
       "      <td>0</td>\n",
       "      <td>1</td>\n",
       "    </tr>\n",
       "  </tbody>\n",
       "</table>\n",
       "</div>"
      ],
      "text/plain": [
       "   householdID  visits  avgrides_perperson  avgmerch_perperson  \\\n",
       "0           44      20                 9.8                32.4   \n",
       "1           57      20                11.7                71.8   \n",
       "2           63      20                 9.8                27.4   \n",
       "3          159      17                 2.2                 1.5   \n",
       "4          162      19                 3.4                 5.0   \n",
       "5          165      19                 2.2                37.5   \n",
       "6          186      20                10.8                88.0   \n",
       "7          199      20                 8.3                23.8   \n",
       "8          235      18                 8.9                27.9   \n",
       "9          249      18                11.9                 8.8   \n",
       "\n",
       "   avggoldzone_perperson  avgfood_perperson  goldzone_playersclub  own_car  \\\n",
       "0                   27.2               70.7                     0        1   \n",
       "1                   40.8                1.6                     0        1   \n",
       "2                   25.7               74.9                     0        1   \n",
       "3                   91.1               28.9                     1        1   \n",
       "4                   12.0                9.2                     0        1   \n",
       "5                   18.4               76.3                     1        1   \n",
       "6                   51.9               47.6                     0        1   \n",
       "7                   90.1               50.0                     0        1   \n",
       "8                   46.6               64.0                     0        1   \n",
       "9                  170.2               11.6                     0        1   \n",
       "\n",
       "  homestate  FB_Like  renew  \n",
       "0        CT        1      1  \n",
       "1        CT        1      1  \n",
       "2        CT        1      1  \n",
       "3        CT        0      1  \n",
       "4        CT        0      1  \n",
       "5        CT        1      1  \n",
       "6        CT        1      1  \n",
       "7        CT        0      1  \n",
       "8        CT        0      1  \n",
       "9        CT        0      1  "
      ]
     },
     "execution_count": 2,
     "metadata": {},
     "output_type": "execute_result"
    }
   ],
   "source": [
    "nychis = pd.read_csv('nyc_historical.csv')\n",
    "nychis.head(10)"
   ]
  },
  {
   "cell_type": "code",
   "execution_count": 3,
   "metadata": {},
   "outputs": [],
   "source": [
    "X = nychis[['visits', 'avgrides_perperson', 'avgmerch_perperson','avggoldzone_perperson', 'avgfood_perperson', 'goldzone_playersclub',\n",
    "       'own_car','FB_Like']].values\n",
    "y = nychis['renew'].values\n",
    "X = preprocessing.StandardScaler().fit(X).transform(X.astype(float))\n",
    "from sklearn.model_selection import train_test_split\n",
    "X_train, X_test, y_train, y_test = train_test_split( X, y, test_size=0.2, random_state=4)"
   ]
  },
  {
   "cell_type": "markdown",
   "metadata": {},
   "source": [
    "### 4.21 Classification algorithm: K Nearest Neighbor (KNN)"
   ]
  },
  {
   "cell_type": "markdown",
   "metadata": {},
   "source": [
    "KNN model uses K nearest data point to decide the predicting outcomes. At first we picked the K=4 to build the KNN model, and use accuracy check to plot the different K numbers to the accuracy score as below:"
   ]
  },
  {
   "cell_type": "code",
   "execution_count": 4,
   "metadata": {},
   "outputs": [
    {
     "name": "stdout",
     "output_type": "stream",
     "text": [
      "0.743359375 0.6828125\n"
     ]
    }
   ],
   "source": [
    "from sklearn.neighbors import KNeighborsClassifier\n",
    "from sklearn import metrics\n",
    "k = 7\n",
    "neigh = KNeighborsClassifier(n_neighbors = k).fit(X_train,y_train)\n",
    "yhat = neigh.predict(X_test)\n",
    "print(metrics.accuracy_score(y_train, neigh.predict(X_train)),metrics.accuracy_score(y_test, yhat))"
   ]
  },
  {
   "cell_type": "code",
   "execution_count": 5,
   "metadata": {},
   "outputs": [
    {
     "data": {
      "text/plain": [
       "array([0.621875 , 0.565625 , 0.634375 , 0.6234375, 0.659375 , 0.6328125,\n",
       "       0.6828125, 0.6515625, 0.68125  ])"
      ]
     },
     "execution_count": 5,
     "metadata": {},
     "output_type": "execute_result"
    }
   ],
   "source": [
    "Ks = 10\n",
    "mean_acc = np.zeros((Ks-1))\n",
    "std_acc = np.zeros((Ks-1))\n",
    "ConfustionMx = [];\n",
    "for n in range(1,Ks):\n",
    "    \n",
    "     \n",
    "    neigh = KNeighborsClassifier(n_neighbors = n).fit(X_train,y_train)\n",
    "    yhat=neigh.predict(X_test)\n",
    "    mean_acc[n-1] = metrics.accuracy_score(y_test, yhat)\n",
    "\n",
    "    \n",
    "    std_acc[n-1]=np.std(yhat==y_test)/np.sqrt(yhat.shape[0])\n",
    "\n",
    "mean_acc"
   ]
  },
  {
   "cell_type": "code",
   "execution_count": 6,
   "metadata": {},
   "outputs": [
    {
     "data": {
      "image/png": "[encoded data removed]",
      "text/plain": [
       "<Figure size 432x288 with 1 Axes>"
      ]
     },
     "metadata": {
      "needs_background": "light"
     },
     "output_type": "display_data"
    }
   ],
   "source": [
    "plt.plot(range(1,Ks),mean_acc,'g')\n",
    "plt.fill_between(range(1,Ks),mean_acc - 1 * std_acc,mean_acc + 1 * std_acc, alpha=0.10)\n",
    "plt.legend(('Accuracy ', '+/- 3xstd'))\n",
    "plt.ylabel('Accuracy ')\n",
    "plt.xlabel('Number of Nabors (K)')\n",
    "plt.tight_layout()\n",
    "plt.show()"
   ]
  },
  {
   "cell_type": "markdown",
   "metadata": {},
   "source": [
    "Based on the accuracy score plot, we decide to use K = 7 to get the most accuracy score for our KNN model. \n",
    "K-NN model yields accuracy score for training set as 0.76, and accuracy score for test score as 0.68\n",
    "\n"
   ]
  },
  {
   "cell_type": "markdown",
   "metadata": {},
   "source": [
    "### 4.22 Classification algorithm: Decision Tree"
   ]
  },
  {
   "cell_type": "markdown",
   "metadata": {},
   "source": [
    "When modeling the decision tree classification, I first create an instance of DecisionTreeClassfier called parkTree, and also we specify the selection criteria as “entropy”."
   ]
  },
  {
   "cell_type": "code",
   "execution_count": 8,
   "metadata": {},
   "outputs": [
    {
     "name": "stdout",
     "output_type": "stream",
     "text": [
      "0.704296875 0.7109375\n"
     ]
    }
   ],
   "source": [
    "from sklearn.tree import DecisionTreeClassifier\n",
    "parkTree = DecisionTreeClassifier(criterion=\"entropy\", max_depth = 4)\n",
    "parkTree.fit(X_train,y_train)\n",
    "predTree = parkTree.predict(X_test)\n",
    "print(metrics.accuracy_score(y_train, parkTree.predict(X_train)),metrics.accuracy_score(y_test, predTree))"
   ]
  },
  {
   "cell_type": "markdown",
   "metadata": {},
   "source": [
    "Decision tree model yields accuracy score for training set as 0.70, and accuracy score for test score as 0.71"
   ]
  },
  {
   "cell_type": "markdown",
   "metadata": {},
   "source": [
    "### 4.23 Classification algorithm: Logistic Regression "
   ]
  },
  {
   "cell_type": "markdown",
   "metadata": {},
   "source": [
    "Normally logistic regression is used to predict the continuous values instead of binary results. The logistic regression package includes all different kinds of the numerical optimizers to find the best parameters.\n",
    "I ran 5 different solvers ‘newton-cg’, ‘lbfgs’, ‘liblinear’, ‘sag’, ‘saga’ to compare the accuracy result. Except for “liblinear” solver, the rest solvers yield the exact same scores. \n"
   ]
  },
  {
   "cell_type": "code",
   "execution_count": 9,
   "metadata": {},
   "outputs": [
    {
     "name": "stdout",
     "output_type": "stream",
     "text": [
      "0.690234375 0.7015625\n"
     ]
    }
   ],
   "source": [
    "from sklearn.linear_model import LogisticRegression\n",
    "from sklearn.metrics import confusion_matrix\n",
    "LR = LogisticRegression(C=0.01, solver='saga').fit(X_train,y_train)\n",
    "predLR= LR.predict(X_test)\n",
    "print(metrics.accuracy_score(y_train, LR.predict(X_train)),metrics.accuracy_score(y_test, predLR))"
   ]
  },
  {
   "cell_type": "code",
   "execution_count": 10,
   "metadata": {},
   "outputs": [
    {
     "data": {
      "text/plain": [
       "array([[0.33995157, 0.66004843],\n",
       "       [0.5589729 , 0.4410271 ],\n",
       "       [0.39292739, 0.60707261],\n",
       "       ...,\n",
       "       [0.40266478, 0.59733522],\n",
       "       [0.42293211, 0.57706789],\n",
       "       [0.43748606, 0.56251394]])"
      ]
     },
     "execution_count": 10,
     "metadata": {},
     "output_type": "execute_result"
    }
   ],
   "source": [
    "prob_cls = LR.predict_proba(X_test)\n",
    "prob_cls"
   ]
  },
  {
   "cell_type": "markdown",
   "metadata": {},
   "source": [
    "Logistic Regression model yields accuracy score for training set as 0.69, and accuracy score for test score as 0.70, and log loss of 0.57\n",
    "The evaluation of logistic regression model can be visualized via confusion matrix as below:\n"
   ]
  },
  {
   "cell_type": "code",
   "execution_count": 11,
   "metadata": {},
   "outputs": [
    {
     "name": "stdout",
     "output_type": "stream",
     "text": [
      "[[390  33]\n",
      " [158  59]]\n"
     ]
    }
   ],
   "source": [
    "from sklearn.metrics import classification_report, confusion_matrix\n",
    "import itertools\n",
    "def plot_confusion_matrix(cm, classes,\n",
    "                          normalize=False,\n",
    "                          title='Confusion matrix',\n",
    "                          cmap=plt.cm.Blues):\n",
    "    \"\"\"\n",
    "    This function prints and plots the confusion matrix.\n",
    "    Normalization can be applied by setting `normalize=True`.\n",
    "    \"\"\"\n",
    "    if normalize:\n",
    "        cm = cm.astype('float') / cm.sum(axis=1)[:, np.newaxis]\n",
    "        print(\"Normalized confusion matrix\")\n",
    "    else:\n",
    "        print('Confusion matrix, without normalization')\n",
    "\n",
    "    print(cm)\n",
    "\n",
    "    plt.imshow(cm, interpolation='nearest', cmap=cmap)\n",
    "    plt.title(title)\n",
    "    plt.colorbar()\n",
    "    tick_marks = np.arange(len(classes))\n",
    "    plt.xticks(tick_marks, classes, rotation=45)\n",
    "    plt.yticks(tick_marks, classes)\n",
    "\n",
    "    fmt = '.2f' if normalize else 'd'\n",
    "    thresh = cm.max() / 2.\n",
    "    for i, j in itertools.product(range(cm.shape[0]), range(cm.shape[1])):\n",
    "        plt.text(j, i, format(cm[i, j], fmt),\n",
    "                 horizontalalignment=\"center\",\n",
    "                 color=\"white\" if cm[i, j] > thresh else \"black\")\n",
    "\n",
    "    plt.tight_layout()\n",
    "    plt.ylabel('True label')\n",
    "    plt.xlabel('Predicted label')\n",
    "print(confusion_matrix(y_test, predLR, labels=[1,0]))"
   ]
  },
  {
   "cell_type": "code",
   "execution_count": 12,
   "metadata": {},
   "outputs": [
    {
     "name": "stdout",
     "output_type": "stream",
     "text": [
      "Confusion matrix, without normalization\n",
      "[[390  33]\n",
      " [158  59]]\n"
     ]
    },
    {
     "data": {
      "image/png": "[encoded data removed]",
      "text/plain": [
       "<Figure size 432x288 with 2 Axes>"
      ]
     },
     "metadata": {
      "needs_background": "light"
     },
     "output_type": "display_data"
    }
   ],
   "source": [
    "cnf_matrix = confusion_matrix(y_test, predLR, labels=[1,0])\n",
    "np.set_printoptions(precision=2)\n",
    "\n",
    "plt.figure()\n",
    "plot_confusion_matrix(cnf_matrix, classes=['churn=1','churn=0'],normalize= False,  title='Confusion matrix')"
   ]
  },
  {
   "cell_type": "markdown",
   "metadata": {},
   "source": [
    "The classification report as following:"
   ]
  },
  {
   "cell_type": "code",
   "execution_count": 13,
   "metadata": {},
   "outputs": [
    {
     "name": "stdout",
     "output_type": "stream",
     "text": [
      "              precision    recall  f1-score   support\n",
      "\n",
      "           0       0.64      0.27      0.38       217\n",
      "           1       0.71      0.92      0.80       423\n",
      "\n",
      "    accuracy                           0.70       640\n",
      "   macro avg       0.68      0.60      0.59       640\n",
      "weighted avg       0.69      0.70      0.66       640\n",
      "\n"
     ]
    }
   ],
   "source": [
    "print (classification_report(y_test, predLR))"
   ]
  },
  {
   "cell_type": "code",
   "execution_count": 14,
   "metadata": {},
   "outputs": [
    {
     "data": {
      "text/plain": [
       "0.5719972572219488"
      ]
     },
     "execution_count": 14,
     "metadata": {},
     "output_type": "execute_result"
    }
   ],
   "source": [
    "from sklearn.metrics import log_loss\n",
    "log_loss(y_test, prob_cls)"
   ]
  },
  {
   "cell_type": "markdown",
   "metadata": {},
   "source": [
    "### 4.24 Classification algorithm: SVM"
   ]
  },
  {
   "cell_type": "markdown",
   "metadata": {},
   "source": [
    "There are different kinds of kernel functions included in the SVM algorithm, and we decided to proceed with radical basis function for this classification model. SVM is more sophisticated and brought the dataset into higher dimensional levels to process.\n",
    "SVM model yields accuracy score for training set as 0.80, and accuracy score for test score as 0.71.\n",
    "The evaluation of SVM model can be visualized via confusion matrix as below:\n"
   ]
  },
  {
   "cell_type": "code",
   "execution_count": 15,
   "metadata": {},
   "outputs": [
    {
     "name": "stderr",
     "output_type": "stream",
     "text": [
      "/Users/nico/opt/anaconda3/lib/python3.7/site-packages/sklearn/svm/base.py:193: FutureWarning: The default value of gamma will change from 'auto' to 'scale' in version 0.22 to account better for unscaled features. Set gamma explicitly to 'auto' or 'scale' to avoid this warning.\n",
      "  \"avoid this warning.\", FutureWarning)\n"
     ]
    },
    {
     "name": "stdout",
     "output_type": "stream",
     "text": [
      "0.704296875 0.7078125\n"
     ]
    }
   ],
   "source": [
    "from sklearn import svm\n",
    "parksvm= svm.SVC(kernel='rbf')\n",
    "parksvm.fit(X_train, y_train) \n",
    "predsvm = parksvm.predict(X_test)\n",
    "print(metrics.accuracy_score(y_train, parksvm.predict(X_train)),metrics.accuracy_score(y_test, predsvm))"
   ]
  },
  {
   "cell_type": "code",
   "execution_count": 16,
   "metadata": {},
   "outputs": [
    {
     "name": "stdout",
     "output_type": "stream",
     "text": [
      "Confusion matrix, without normalization\n",
      "[[ 69 148]\n",
      " [ 39 384]]\n"
     ]
    },
    {
     "data": {
      "image/png": "[encoded data removed]",
      "text/plain": [
       "<Figure size 432x288 with 2 Axes>"
      ]
     },
     "metadata": {
      "needs_background": "light"
     },
     "output_type": "display_data"
    }
   ],
   "source": [
    "svm_matrix = confusion_matrix(y_test, predsvm, labels=[0,1])\n",
    "np.set_printoptions(precision=2)\n",
    "\n",
    "plt.figure()\n",
    "plot_confusion_matrix(svm_matrix, classes=['churn=1','churn=0'],normalize= False,  title='Confusion matrix')"
   ]
  },
  {
   "cell_type": "code",
   "execution_count": 17,
   "metadata": {},
   "outputs": [
    {
     "name": "stdout",
     "output_type": "stream",
     "text": [
      "              precision    recall  f1-score   support\n",
      "\n",
      "           0       0.64      0.32      0.42       217\n",
      "           1       0.72      0.91      0.80       423\n",
      "\n",
      "    accuracy                           0.71       640\n",
      "   macro avg       0.68      0.61      0.61       640\n",
      "weighted avg       0.69      0.71      0.68       640\n",
      "\n"
     ]
    }
   ],
   "source": [
    "print (classification_report(y_test, predsvm))\n",
    "\n"
   ]
  },
  {
   "cell_type": "markdown",
   "metadata": {},
   "source": [
    "### 4.3 Classification Models Evaluation"
   ]
  },
  {
   "cell_type": "code",
   "execution_count": 18,
   "metadata": {},
   "outputs": [
    {
     "name": "stdout",
     "output_type": "stream",
     "text": [
      "0.68125 0.7109375 0.7015625 0.7078125\n"
     ]
    },
    {
     "name": "stderr",
     "output_type": "stream",
     "text": [
      "/Users/nico/opt/anaconda3/lib/python3.7/site-packages/sklearn/metrics/classification.py:635: DeprecationWarning: jaccard_similarity_score has been deprecated and replaced with jaccard_score. It will be removed in version 0.23. This implementation has surprising behavior for binary and multiclass classification tasks.\n",
      "  'and multiclass classification tasks.', DeprecationWarning)\n",
      "/Users/nico/opt/anaconda3/lib/python3.7/site-packages/sklearn/metrics/classification.py:635: DeprecationWarning: jaccard_similarity_score has been deprecated and replaced with jaccard_score. It will be removed in version 0.23. This implementation has surprising behavior for binary and multiclass classification tasks.\n",
      "  'and multiclass classification tasks.', DeprecationWarning)\n",
      "/Users/nico/opt/anaconda3/lib/python3.7/site-packages/sklearn/metrics/classification.py:635: DeprecationWarning: jaccard_similarity_score has been deprecated and replaced with jaccard_score. It will be removed in version 0.23. This implementation has surprising behavior for binary and multiclass classification tasks.\n",
      "  'and multiclass classification tasks.', DeprecationWarning)\n",
      "/Users/nico/opt/anaconda3/lib/python3.7/site-packages/sklearn/metrics/classification.py:635: DeprecationWarning: jaccard_similarity_score has been deprecated and replaced with jaccard_score. It will be removed in version 0.23. This implementation has surprising behavior for binary and multiclass classification tasks.\n",
      "  'and multiclass classification tasks.', DeprecationWarning)\n"
     ]
    }
   ],
   "source": [
    "from sklearn.metrics import jaccard_similarity_score\n",
    "print(jaccard_similarity_score(y_test, yhat),\n",
    "     jaccard_similarity_score(y_test, predTree),\n",
    "     jaccard_similarity_score(y_test, predLR),\n",
    "     jaccard_similarity_score(y_test, predsvm))"
   ]
  },
  {
   "cell_type": "code",
   "execution_count": 19,
   "metadata": {},
   "outputs": [
    {
     "name": "stdout",
     "output_type": "stream",
     "text": [
      "0.6620511049723756 0.6770891703942645 0.6604083448318385 0.6754894784534837\n"
     ]
    }
   ],
   "source": [
    "from sklearn.metrics import f1_score\n",
    "print(f1_score(y_test, yhat, average='weighted'),\n",
    "     f1_score(y_test, predTree, average='weighted') ,\n",
    "     f1_score(y_test, predLR, average='weighted') ,\n",
    "     f1_score(y_test, predsvm, average='weighted') )"
   ]
  },
  {
   "cell_type": "markdown",
   "metadata": {},
   "source": [
    "| Algorithm     | Jaccard       | F1    |\n",
    "| ------------- |:-------------:| -----:|\n",
    "| KNN           | 0.6828        |0.6675 |\n",
    "| Decision Tree | 0.7109        | 0.677 |\n",
    "| Logistic Regression |  0.7015 |0.6604 |\n",
    "| SVM           |   0.7078      |0.6755 |"
   ]
  },
  {
   "cell_type": "markdown",
   "metadata": {},
   "source": [
    "The Jaccard similarity index (sometimes called the Jaccard similarity coefficient) compares members for two sets to see which members are shared and which are distinct. The F1 score can be interpreted as a weighted average of the precision and recall, where an F1 score reaches its best value at 1 and worst score at 0. Based on the above performance, I will recommend decision tree model for future prediction on whether an existing member will renew the pass or not. \n",
    "\n"
   ]
  },
  {
   "cell_type": "markdown",
   "metadata": {},
   "source": [
    "### 5.\tConclusion"
   ]
  },
  {
   "cell_type": "markdown",
   "metadata": {},
   "source": [
    "In this analysis, I analyze the new York consumer behavior to test and verify the hypothesis that  new York people prefer leisure trips more than long distance travelling and also cluster the consumers into different groups for marketing department to make strategic targeting plans. Then I built non-linear regression model to predict the next five years market size for marketing department to budget the campaign spending. In the end, I built classification models for predicting whether an existing member will renew his or her membership or not. Based on the performance on the different types of classification model, we highly recommend ABC management to implement the decision tree model for future predictions."
   ]
  },
  {
   "cell_type": "code",
   "execution_count": null,
   "metadata": {},
   "outputs": [],
   "source": []
  }
 ],
 "metadata": {
  "kernelspec": {
   "display_name": "Python 3",
   "language": "python",
   "name": "python3"
  },
  "language_info": {
   "codemirror_mode": {
    "name": "ipython",
    "version": 3
   },
   "file_extension": ".py",
   "mimetype": "text/x-python",
   "name": "python",
   "nbconvert_exporter": "python",
   "pygments_lexer": "ipython3",
   "version": "3.7.4"
  }
 },
 "nbformat": 4,
 "nbformat_minor": 2
}
